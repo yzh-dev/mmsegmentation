{
 "cells": [
  {
   "cell_type": "markdown",
   "id": "c669bd26-b5b8-40ad-b087-ef8324985c6f",
   "metadata": {},
   "source": [
    "# 下载整理好的数据集\n",
    "\n",
    "同济子豪兄 2023-2-13\n",
    "\n",
    "Kaggle原版数据集：https://www.kaggle.com/datasets/humansintheloop/semantic-segmentation-of-aerial-imagery"
   ]
  },
  {
   "cell_type": "markdown",
   "id": "c1229f75-1171-4719-b0ba-fb7a6f66708e",
   "metadata": {},
   "source": [
    "## 进入MMSegmentation主目录"
   ]
  },
  {
   "cell_type": "code",
   "execution_count": 1,
   "id": "3bbc07c1-0207-4f2a-a99e-e1452dee5d01",
   "metadata": {},
   "outputs": [],
   "source": [
    "import os\n",
    "os.chdir('../mmsegmentation')"
   ]
  },
  {
   "cell_type": "code",
   "execution_count": 2,
   "id": "d62a9d6c-a6b6-4314-9505-c7f2d3fc9a55",
   "metadata": {},
   "outputs": [
    {
     "data": {
      "text/plain": [
       "'/home/featurize/work/MMSegmentation教程/mmsegmentation'"
      ]
     },
     "execution_count": 2,
     "metadata": {},
     "output_type": "execute_result"
    }
   ],
   "source": [
    "os.getcwd()"
   ]
  },
  {
   "cell_type": "code",
   "execution_count": 3,
   "id": "5a54e880-620b-4c3d-aa72-6846d290c1d2",
   "metadata": {},
   "outputs": [
    {
     "name": "stdout",
     "output_type": "stream",
     "text": [
      "--2023-02-15 17:16:39--  https://zihao-openmmlab.obs.cn-east-3.myhuaweicloud.com/20230130-mmseg/dataset/Dubai-dataset.zip\n",
      "正在连接 172.16.0.13:5848... 已连接。\n",
      "已发出 Proxy 请求，正在等待回应... 200 OK\n",
      "长度： 29851696 (28M) [application/zip]\n",
      "正在保存至: “Dubai-dataset.zip”\n",
      "\n",
      "Dubai-dataset.zip   100%[===================>]  28.47M  20.6MB/s    用时 1.4s    \n",
      "\n",
      "2023-02-15 17:16:41 (20.6 MB/s) - 已保存 “Dubai-dataset.zip” [29851696/29851696])\n",
      "\n"
     ]
    }
   ],
   "source": [
    "!wget https://zihao-openmmlab.obs.cn-east-3.myhuaweicloud.com/20230130-mmseg/dataset/Dubai-dataset.zip"
   ]
  },
  {
   "cell_type": "code",
   "execution_count": 4,
   "id": "87cbd16a-e5b3-412e-a15d-5a1568311d0c",
   "metadata": {},
   "outputs": [],
   "source": [
    "# 解压\n",
    "!unzip data/Dubai-dataset.zip >> /dev/null"
   ]
  },
  {
   "cell_type": "markdown",
   "id": "e9ec11d1-862d-4b74-8427-af98217ba89f",
   "metadata": {},
   "source": [
    "在`mmsegmentation`主目录中，出现文件夹`Dubai-dataset`"
   ]
  },
  {
   "cell_type": "code",
   "execution_count": 9,
   "id": "bfd97811-aa41-4bad-9fce-f34fbb1d1b52",
   "metadata": {},
   "outputs": [],
   "source": [
    "# !rm -rf Dubai-dataset"
   ]
  },
  {
   "cell_type": "code",
   "execution_count": 8,
   "id": "6f4fbaf6-4646-4837-b685-04ec186ec9ad",
   "metadata": {},
   "outputs": [],
   "source": [
    "# !rm -rf Dubai-dataset.zip"
   ]
  },
  {
   "cell_type": "code",
   "execution_count": null,
   "id": "7fc8bc1a-5d4f-4189-8ad8-168379659da9",
   "metadata": {},
   "outputs": [],
   "source": []
  }
 ],
 "metadata": {
  "kernelspec": {
   "display_name": "Python 3 (ipykernel)",
   "language": "python",
   "name": "python3"
  },
  "language_info": {
   "codemirror_mode": {
    "name": "ipython",
    "version": 3
   },
   "file_extension": ".py",
   "mimetype": "text/x-python",
   "name": "python",
   "nbconvert_exporter": "python",
   "pygments_lexer": "ipython3",
   "version": "3.7.10"
  }
 },
 "nbformat": 4,
 "nbformat_minor": 5
}
