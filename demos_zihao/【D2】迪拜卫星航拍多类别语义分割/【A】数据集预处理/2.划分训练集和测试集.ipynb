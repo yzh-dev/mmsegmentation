{
 "cells": [
  {
   "cell_type": "markdown",
   "id": "9621e3b1-dd42-479c-8b80-6dc6a8e875e3",
   "metadata": {},
   "source": [
    "# 划分训练集和测试集\n",
    "\n",
    "同济子豪兄\n",
    "\n",
    "2023-1-31"
   ]
  },
  {
   "cell_type": "markdown",
   "id": "24228f54-9782-4a9f-9464-880679ec8f30",
   "metadata": {},
   "source": [
    "## 导入工具包"
   ]
  },
  {
   "cell_type": "code",
   "execution_count": 3,
   "id": "447de385-68b8-454d-a60b-524c1bffedca",
   "metadata": {},
   "outputs": [],
   "source": [
    "import os\n",
    "import random"
   ]
  },
  {
   "cell_type": "markdown",
   "id": "50dfb718-8b9a-4560-8274-a1ed124d168f",
   "metadata": {},
   "source": [
    "## 获取全部数据文件名列表"
   ]
  },
  {
   "cell_type": "code",
   "execution_count": 2,
   "id": "e6ecacac-18ce-442f-8038-910b79700849",
   "metadata": {},
   "outputs": [],
   "source": [
    "!rm -rf Dubai-dataset Dubai-dataset-old"
   ]
  },
  {
   "cell_type": "code",
   "execution_count": 4,
   "id": "a52895dd-f2cc-454e-84bf-732b75ffddeb",
   "metadata": {},
   "outputs": [],
   "source": [
    "PATH_IMAGE = 'Dubai-dataset/images'"
   ]
  },
  {
   "cell_type": "code",
   "execution_count": 5,
   "id": "467b3a08-22a9-4454-9bc6-2e2faa52c1a5",
   "metadata": {},
   "outputs": [],
   "source": [
    "all_file_list = os.listdir(PATH_IMAGE)\n",
    "all_file_num = len(all_file_list)\n",
    "random.shuffle(all_file_list) # 随机打乱全部数据文件名列表"
   ]
  },
  {
   "cell_type": "markdown",
   "id": "d4010c0e-0587-4360-af64-530424293b93",
   "metadata": {},
   "source": [
    "## 指定训练集和测试集比例"
   ]
  },
  {
   "cell_type": "code",
   "execution_count": 6,
   "id": "4a9d9297-5267-4b6b-ab66-e5d8e0d82d5f",
   "metadata": {},
   "outputs": [],
   "source": [
    "train_ratio = 0.8\n",
    "test_ratio = 1 - train_ratio"
   ]
  },
  {
   "cell_type": "code",
   "execution_count": 7,
   "id": "0748ec32-3eb8-4f97-9a36-7c0c960fe89d",
   "metadata": {},
   "outputs": [],
   "source": [
    "train_file_list = all_file_list[:int(all_file_num*train_ratio)]\n",
    "test_file_list = all_file_list[int(all_file_num*train_ratio):]"
   ]
  },
  {
   "cell_type": "code",
   "execution_count": 8,
   "id": "69664f88-f85f-4049-94db-a890edd5a8ca",
   "metadata": {},
   "outputs": [
    {
     "name": "stdout",
     "output_type": "stream",
     "text": [
      "数据集图像总数 72\n",
      "训练集划分比例 0.8\n",
      "训练集图像个数 57\n",
      "测试集图像个数 15\n"
     ]
    }
   ],
   "source": [
    "print('数据集图像总数', all_file_num)\n",
    "print('训练集划分比例', train_ratio)\n",
    "print('训练集图像个数', len(train_file_list))\n",
    "print('测试集图像个数', len(test_file_list))"
   ]
  },
  {
   "cell_type": "code",
   "execution_count": 9,
   "id": "942553f0-3471-4221-9b5c-07d00419433f",
   "metadata": {},
   "outputs": [
    {
     "data": {
      "text/plain": [
       "['58.jpg', '17.jpg', '61.jpg', '63.jpg', '33.jpg']"
      ]
     },
     "execution_count": 9,
     "metadata": {},
     "output_type": "execute_result"
    }
   ],
   "source": [
    "train_file_list[:5]"
   ]
  },
  {
   "cell_type": "code",
   "execution_count": 10,
   "id": "96ce2551-6ff4-406b-9696-f967e559bf60",
   "metadata": {},
   "outputs": [
    {
     "data": {
      "text/plain": [
       "['71.jpg', '5.jpg', '51.jpg', '37.jpg', '9.jpg']"
      ]
     },
     "execution_count": 10,
     "metadata": {},
     "output_type": "execute_result"
    }
   ],
   "source": [
    "test_file_list[:5]"
   ]
  },
  {
   "cell_type": "markdown",
   "id": "5d7dd245-fb0d-44ac-9666-6ba21ec33f45",
   "metadata": {},
   "source": [
    "## 生成两个txt划分文件"
   ]
  },
  {
   "cell_type": "code",
   "execution_count": 11,
   "id": "c73d0a8d-fcf5-42cd-b6cf-e3521aee3ffb",
   "metadata": {},
   "outputs": [],
   "source": [
    "os.mkdir('Dubai-dataset/splits')"
   ]
  },
  {
   "cell_type": "code",
   "execution_count": 12,
   "id": "e84a1007-d716-45c3-9d24-ba7c4966f585",
   "metadata": {},
   "outputs": [],
   "source": [
    "with open('Dubai-dataset/splits/train.txt', 'w') as f:\n",
    "    f.writelines(line.split('.')[0] + '\\n' for line in train_file_list)\n",
    "with open('Dubai-dataset/splits/val.txt', 'w') as f:\n",
    "    f.writelines(line.split('.')[0] + '\\n' for line in test_file_list)"
   ]
  },
  {
   "cell_type": "markdown",
   "id": "4bab93f1-44a0-4923-b046-572d626b14a8",
   "metadata": {},
   "source": [
    "## 将训练集和测试集移动到对应的新文件夹"
   ]
  },
  {
   "cell_type": "code",
   "execution_count": 13,
   "id": "d1c551c8-4996-4257-9972-4703674b31df",
   "metadata": {},
   "outputs": [
    {
     "data": {
      "text/plain": [
       "'/home/featurize/work/MMSegmentation教程/【D2】迪拜卫星航拍多类别语义分割/【A】数据集预处理'"
      ]
     },
     "execution_count": 13,
     "metadata": {},
     "output_type": "execute_result"
    }
   ],
   "source": [
    "os.getcwd()"
   ]
  },
  {
   "cell_type": "code",
   "execution_count": 14,
   "id": "ced4141f-5451-41a4-9870-df4972f8b011",
   "metadata": {},
   "outputs": [],
   "source": [
    "!rm -rf img_train img_val mask_train mask_test"
   ]
  },
  {
   "cell_type": "code",
   "execution_count": 15,
   "id": "ae9e7441-11a4-4806-968e-1542167f4172",
   "metadata": {},
   "outputs": [],
   "source": [
    "os.mkdir('img_train')"
   ]
  },
  {
   "cell_type": "code",
   "execution_count": 16,
   "id": "1fe7dacc-3bd6-42a0-92ae-701b5d580fab",
   "metadata": {},
   "outputs": [],
   "source": [
    "os.mkdir('img_test')"
   ]
  },
  {
   "cell_type": "code",
   "execution_count": 17,
   "id": "45828377-ebe1-409c-9abb-f1acadafcc93",
   "metadata": {},
   "outputs": [],
   "source": [
    "os.mkdir('mask_train')"
   ]
  },
  {
   "cell_type": "code",
   "execution_count": 18,
   "id": "f75db24a-9e03-4bdc-9f25-af6f9892fe83",
   "metadata": {},
   "outputs": [],
   "source": [
    "os.mkdir('mask_test')"
   ]
  },
  {
   "cell_type": "code",
   "execution_count": 19,
   "id": "f3fa80bb-82df-4079-8fa1-95b3b60d2c92",
   "metadata": {},
   "outputs": [],
   "source": [
    "from tqdm import tqdm"
   ]
  },
  {
   "cell_type": "code",
   "execution_count": 20,
   "id": "db4a62c8-d922-403a-984f-a2e6b4656413",
   "metadata": {},
   "outputs": [
    {
     "name": "stderr",
     "output_type": "stream",
     "text": [
      "100%|██████████| 57/57 [00:00<00:00, 2868.92it/s]\n"
     ]
    }
   ],
   "source": [
    "for each in tqdm(train_file_list):\n",
    "    os.rename('./Dubai-dataset/images/'+each, './img_train/'+each)"
   ]
  },
  {
   "cell_type": "code",
   "execution_count": 21,
   "id": "5105f872-233f-4a78-9cec-95248db49534",
   "metadata": {},
   "outputs": [
    {
     "name": "stderr",
     "output_type": "stream",
     "text": [
      "100%|██████████| 15/15 [00:00<00:00, 2140.10it/s]\n"
     ]
    }
   ],
   "source": [
    "for each in tqdm(test_file_list):\n",
    "    os.rename('./Dubai-dataset/images/'+each, './img_test/'+each)"
   ]
  },
  {
   "cell_type": "code",
   "execution_count": 22,
   "id": "d4987538-c69c-4a5d-b987-14ff7745f620",
   "metadata": {},
   "outputs": [
    {
     "name": "stderr",
     "output_type": "stream",
     "text": [
      "100%|██████████| 57/57 [00:00<00:00, 3477.86it/s]\n"
     ]
    }
   ],
   "source": [
    "for each in tqdm(train_file_list):\n",
    "    os.rename('./Dubai-dataset/masks/'+each.split('.')[0]+'.png', './mask_train/'+each.split('.')[0]+'.png')"
   ]
  },
  {
   "cell_type": "code",
   "execution_count": 23,
   "id": "d91f16a6-88ca-4609-9703-5ce530afba6a",
   "metadata": {},
   "outputs": [
    {
     "name": "stderr",
     "output_type": "stream",
     "text": [
      "100%|██████████| 15/15 [00:00<00:00, 2726.05it/s]\n"
     ]
    }
   ],
   "source": [
    "for each in tqdm(test_file_list):\n",
    "    os.rename('./Dubai-dataset/masks/'+each.split('.')[0]+'.png', './mask_test/'+each.split('.')[0]+'.png')"
   ]
  },
  {
   "cell_type": "markdown",
   "id": "452973e7-6308-4cdb-949d-c672a8fb3ca6",
   "metadata": {},
   "source": [
    "## 整理数据集\n",
    "\n",
    "https://github.com/open-mmlab/mmsegmentation/blob/fa8a634faba27ca2570fd87c48125bdcb30e4c8e/docs/en/tutorials/customize_datasets.md#preparation-of-dataset"
   ]
  },
  {
   "cell_type": "code",
   "execution_count": null,
   "id": "3cfd8826-e1dd-44f3-9508-c2cff07083ef",
   "metadata": {},
   "outputs": [],
   "source": []
  }
 ],
 "metadata": {
  "kernelspec": {
   "display_name": "Python 3 (ipykernel)",
   "language": "python",
   "name": "python3"
  },
  "language_info": {
   "codemirror_mode": {
    "name": "ipython",
    "version": 3
   },
   "file_extension": ".py",
   "mimetype": "text/x-python",
   "name": "python",
   "nbconvert_exporter": "python",
   "pygments_lexer": "ipython3",
   "version": "3.7.10"
  }
 },
 "nbformat": 4,
 "nbformat_minor": 5
}
