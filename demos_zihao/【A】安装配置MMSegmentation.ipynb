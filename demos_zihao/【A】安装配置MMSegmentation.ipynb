{
 "cells": [
  {
   "cell_type": "markdown",
   "id": "bc3d1961-9081-49c9-be56-ad0c748decf1",
   "metadata": {},
   "source": [
    "# 安装配置MMSegmentation"
   ]
  },
  {
   "cell_type": "markdown",
   "id": "0fc8ebd8-db6e-4a17-895f-2f87fc98ca79",
   "metadata": {},
   "source": [
    "按照顺序逐行运行本代码，即可安装配置 MMCV、MMSegmentation环境\n",
    "\n",
    "推荐代码运行[云GPU环境](https://featurize.cn?s=d7ce99f842414bfcaea5662a97581bd1)：GPU RTX 3060、CUDA v11.2\n",
    "\n",
    "作者：同济子豪兄 2023-1-11"
   ]
  },
  {
   "cell_type": "markdown",
   "id": "63d0dc47-4601-49a3-8d25-12b4d24fa6f0",
   "metadata": {},
   "source": [
    "> 提示：以下代码运行时，若长时间运行卡着不动，可重启 kernel 后重新运行一遍"
   ]
  },
  {
   "cell_type": "markdown",
   "id": "6fc1c686-1267-4503-b9e4-bcb188a7f974",
   "metadata": {
    "tags": []
   },
   "source": [
    "## 安装Pytorch"
   ]
  },
  {
   "cell_type": "code",
   "execution_count": null,
   "id": "2fef57fc-d5f0-4cd0-a134-1f025c15439f",
   "metadata": {},
   "outputs": [],
   "source": [
    "# 安装Pytorch?\n",
    "# !pip3 install install torch==1.10.1+cu113 torchvision==0.11.2+cu113 torchaudio==0.10.1+cu113 -f https://download.pytorch.org/whl/cu113/torch_stable.html\n"
   ]
  },
  {
   "cell_type": "markdown",
   "id": "054b64e4-4796-4136-b45e-3664b281cf30",
   "metadata": {},
   "source": [
    "## 用MIM安装MMCV"
   ]
  },
  {
   "cell_type": "code",
   "execution_count": null,
   "id": "83b1c9e3-0d69-423d-a8a2-172d18dfdb33",
   "metadata": {},
   "outputs": [],
   "source": [
    "!pip install -U openmim\n",
    "# !mim install mmengine\n",
    "!mim install 'mmcv>=2.0.0rc1'\n",
    "# !mim install 'mmcv=pip install -U openmim=2.0.0rc3'"
   ]
  },
  {
   "cell_type": "markdown",
   "id": "38c55520-071b-41de-91f4-3ec78e16bf27",
   "metadata": {},
   "source": [
    "## 安装其它工具包"
   ]
  },
  {
   "cell_type": "code",
   "execution_count": null,
   "id": "eb4b3373-f117-46a9-ab43-e67753eb7c61",
   "metadata": {},
   "outputs": [],
   "source": [
    "# !pip install opencv-python pillow matplotlib seaborn tqdm 'mmdet>=3.0.0rc1' -i https://pypi.tuna.tsinghua.edu.cn/simple\n"
   ]
  },
  {
   "cell_type": "markdown",
   "id": "0defb2f8-d5ab-4ee4-a66f-85cc17c221de",
   "metadata": {
    "tags": []
   },
   "source": [
    "## 下载 MMSegmentation"
   ]
  },
  {
   "cell_type": "code",
   "execution_count": null,
   "id": "89026868-58b1-4755-aca3-ded98451e906",
   "metadata": {},
   "outputs": [],
   "source": [
    "# 删掉原有的 mmsegmentation 文件夹（如有）\n",
    "# !rm -rf mmsegmentation"
   ]
  },
  {
   "cell_type": "code",
   "execution_count": null,
   "id": "09c51fee-d040-46cf-8d86-c0248ab7fe84",
   "metadata": {},
   "outputs": [],
   "source": [
    "# 从 github 上下载最新的 mmsegmentation 源代码\n",
    "!git clone https://github.com/open-mmlab/mmsegmentation.git -b dev-1.x"
   ]
  },
  {
   "cell_type": "code",
   "execution_count": null,
   "id": "b6a71270-f87b-4cf3-87f0-771f45f38c28",
   "metadata": {},
   "outputs": [],
   "source": [
    "# 进入主目录\n",
    "import os\n",
    "os.chdir('mmsegmentation')"
   ]
  },
  {
   "cell_type": "markdown",
   "id": "f1cd1922-e20a-459a-bf45-e826d8245d88",
   "metadata": {},
   "source": [
    "## 安装 MMSegmentation"
   ]
  },
  {
   "cell_type": "code",
   "execution_count": null,
   "id": "21e78bae-1d33-478d-8b72-5e8584f6cadf",
   "metadata": {},
   "outputs": [],
   "source": [
    "!pip install -v -e ."
   ]
  },
  {
   "cell_type": "markdown",
   "id": "a828bfe4-82e5-497a-9bda-cb9837df2cb3",
   "metadata": {},
   "source": [
    "## 下载预训练模型权重文件和视频素材"
   ]
  },
  {
   "cell_type": "code",
   "execution_count": null,
   "id": "5aac1d0c-dbf5-478c-ab80-7e2aa0ab0f01",
   "metadata": {},
   "outputs": [],
   "source": [
    "import os\n",
    "\n",
    "# 创建 checkpoint 文件夹，用于存放预训练模型权重文件\n",
    "# os.mkdir('checkpoint')\n",
    "\n",
    "# 创建 outputs 文件夹，用于存放预测结果\n",
    "# os.mkdir('outputs')\n",
    "\n",
    "# 创建 data 文件夹，用于存放图片和视频素材\n",
    "# os.mkdir('data')"
   ]
  },
  {
   "cell_type": "markdown",
   "id": "7dba2fbe-cb08-40a8-8ec5-7ab5ff7b70b3",
   "metadata": {},
   "source": [
    "## 下载预训练模型权重"
   ]
  },
  {
   "cell_type": "markdown",
   "id": "ec0111ac-aaf5-49d2-b052-554c1846c36e",
   "metadata": {},
   "source": [
    "Model Zoo：https://github.com/open-mmlab/mmsegmentation/blob/master/docs/en/model_zoo.md"
   ]
  },
  {
   "cell_type": "code",
   "execution_count": null,
   "id": "72968e0c-3532-4d94-b9bc-41f78ea03f5b",
   "metadata": {},
   "outputs": [],
   "source": [
    "# 从 Model Zoo 获取 PSPNet 预训练模型，下载并保存在 checkpoint 文件夹中\n",
    "# !wget https://download.openmmlab.com/mmsegmentation/v0.5/pspnet/pspnet_r50-d8_512x1024_40k_cityscapes/pspnet_r50-d8_512x1024_40k_cityscapes_20200605_003338-2966598c.pth -P ../checkpoints\n"
   ]
  },
  {
   "cell_type": "markdown",
   "id": "e4fb1cb6-2b9b-418c-9230-6b413c748095",
   "metadata": {},
   "source": [
    "## 下载素材\n",
    "\n",
    "如果报错`Unable to establish SSL connection.`，重新运行代码块即可。"
   ]
  },
  {
   "cell_type": "code",
   "execution_count": null,
   "id": "476bcac7-da39-416a-ba15-8d840d3ec06b",
   "metadata": {},
   "outputs": [],
   "source": [
    "# 伦敦街景图片\n",
    "!wget https://zihao-openmmlab.obs.cn-east-3.myhuaweicloud.com/20220713-mmdetection/images/street_uk.jpeg -P ../data\n",
    "\n",
    "# 上海驾车街景视频，视频来源：https://www.youtube.com/watch?v=ll8TgCZ0plk\n",
    "!wget https://zihao-download.obs.cn-east-3.myhuaweicloud.com/detectron2/traffic.mp4 -P ../data\n",
    "\n",
    "# 街拍视频，2022年3月30日\n",
    "!wget https://zihao-openmmlab.obs.cn-east-3.myhuaweicloud.com/20220713-mmdetection/images/street_20220330_174028.mp4 -P ../data\n"
   ]
  },
  {
   "cell_type": "markdown",
   "id": "fa97e1da-f245-4d32-892d-dec07a6b2c16",
   "metadata": {},
   "source": [
    "## 检查安装成功"
   ]
  },
  {
   "cell_type": "code",
   "execution_count": null,
   "id": "424fca02-13cc-493f-8833-ec63900f02d3",
   "metadata": {},
   "outputs": [],
   "source": [
    "# 检查 Pytorch\n",
    "import torch, torchvision\n",
    "print('Pytorch 版本', torch.__version__)\n",
    "print('CUDA 是否可用',torch.cuda.is_available())"
   ]
  },
  {
   "cell_type": "code",
   "execution_count": 11,
   "id": "96a6e738-d9d3-4e9f-a053-15bf2f29d43b",
   "metadata": {},
   "outputs": [
    {
     "name": "stdout",
     "output_type": "stream",
     "text": [
      "MMCV版本 1.7.1\n"
     ]
    }
   ],
   "source": [
    "# 检查 mmcv\n",
    "import mmcv\n",
    "# from mmcv.ops import get_compiling_cuda_version, get_compiler_version\n",
    "print('MMCV版本', mmcv.__version__)\n",
    "# print('CUDA版本', get_compiling_cuda_version())\n",
    "# print('编译器版本', get_compiler_version())"
   ]
  },
  {
   "cell_type": "code",
   "execution_count": 3,
   "id": "dae8b28c-fa1f-4911-ba27-50ed745e9679",
   "metadata": {},
   "outputs": [
    {
     "ename": "AssertionError",
     "evalue": "MMCV==1.7.1 is used but incompatible. Please install mmcv>=2.0.0rc4.",
     "output_type": "error",
     "traceback": [
      "\u001B[1;31m---------------------------------------------------------------------------\u001B[0m",
      "\u001B[1;31mAssertionError\u001B[0m                            Traceback (most recent call last)",
      "Cell \u001B[1;32mIn[3], line 2\u001B[0m\n\u001B[0;32m      1\u001B[0m \u001B[38;5;66;03m# 检查 mmsegmentation\u001B[39;00m\n\u001B[1;32m----> 2\u001B[0m \u001B[38;5;28;01mimport\u001B[39;00m \u001B[38;5;21;01mmmseg\u001B[39;00m\n\u001B[0;32m      3\u001B[0m \u001B[38;5;28;01mfrom\u001B[39;00m \u001B[38;5;21;01mmmseg\u001B[39;00m\u001B[38;5;21;01m.\u001B[39;00m\u001B[38;5;21;01mutils\u001B[39;00m \u001B[38;5;28;01mimport\u001B[39;00m register_all_modules\n\u001B[0;32m      4\u001B[0m \u001B[38;5;28;01mfrom\u001B[39;00m \u001B[38;5;21;01mmmseg\u001B[39;00m\u001B[38;5;21;01m.\u001B[39;00m\u001B[38;5;21;01mapis\u001B[39;00m \u001B[38;5;28;01mimport\u001B[39;00m inference_model, init_model\n",
      "File \u001B[1;32md:\\pythonprojects\\openmmlabcourse\\mmsegmentation\\mmseg\\__init__.py:61\u001B[0m\n\u001B[0;32m     57\u001B[0m mmcv_max_version \u001B[38;5;241m=\u001B[39m digit_version(MMCV_MAX)\n\u001B[0;32m     58\u001B[0m mmcv_version \u001B[38;5;241m=\u001B[39m digit_version(mmcv\u001B[38;5;241m.\u001B[39m__version__)\n\u001B[1;32m---> 61\u001B[0m \u001B[38;5;28;01massert\u001B[39;00m (mmcv_min_version \u001B[38;5;241m<\u001B[39m\u001B[38;5;241m=\u001B[39m mmcv_version \u001B[38;5;241m<\u001B[39m mmcv_max_version), \\\n\u001B[0;32m     62\u001B[0m     \u001B[38;5;124mf\u001B[39m\u001B[38;5;124m'\u001B[39m\u001B[38;5;124mMMCV==\u001B[39m\u001B[38;5;132;01m{\u001B[39;00mmmcv\u001B[38;5;241m.\u001B[39m__version__\u001B[38;5;132;01m}\u001B[39;00m\u001B[38;5;124m is used but incompatible. \u001B[39m\u001B[38;5;124m'\u001B[39m \\\n\u001B[0;32m     63\u001B[0m     \u001B[38;5;124mf\u001B[39m\u001B[38;5;124m'\u001B[39m\u001B[38;5;124mPlease install mmcv>=2.0.0rc4.\u001B[39m\u001B[38;5;124m'\u001B[39m\n\u001B[0;32m     65\u001B[0m mmengine_min_version \u001B[38;5;241m=\u001B[39m digit_version(MMENGINE_MIN)\n\u001B[0;32m     66\u001B[0m mmengine_max_version \u001B[38;5;241m=\u001B[39m digit_version(MMENGINE_MAX)\n",
      "\u001B[1;31mAssertionError\u001B[0m: MMCV==1.7.1 is used but incompatible. Please install mmcv>=2.0.0rc4."
     ]
    }
   ],
   "source": [
    "# 检查 mmsegmentation\n",
    "import mmseg\n",
    "from mmseg.utils import register_all_modules\n",
    "from mmseg.apis import inference_model, init_model\n",
    "print('mmsegmentation版本', mmseg.__version__)"
   ]
  },
  {
   "cell_type": "markdown",
   "id": "6f89f196-6f70-46a5-9715-ee4755717c13",
   "metadata": {},
   "source": [
    "没有报错，即证明安装成功。"
   ]
  },
  {
   "cell_type": "code",
   "execution_count": null,
   "id": "90954e26-49ee-42ad-b2ff-7514e8542db4",
   "metadata": {},
   "outputs": [],
   "source": []
  }
 ],
 "metadata": {
  "kernelspec": {
   "display_name": "Python 3 (ipykernel)",
   "language": "python",
   "name": "python3"
  },
  "language_info": {
   "codemirror_mode": {
    "name": "ipython",
    "version": 3
   },
   "file_extension": ".py",
   "mimetype": "text/x-python",
   "name": "python",
   "nbconvert_exporter": "python",
   "pygments_lexer": "ipython3",
   "version": "3.7.10"
  }
 },
 "nbformat": 4,
 "nbformat_minor": 5
}
