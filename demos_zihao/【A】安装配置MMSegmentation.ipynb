{
 "cells": [
  {
   "cell_type": "markdown",
   "id": "bc3d1961-9081-49c9-be56-ad0c748decf1",
   "metadata": {},
   "source": [
    "# 安装配置MMSegmentation"
   ]
  },
  {
   "cell_type": "markdown",
   "id": "0fc8ebd8-db6e-4a17-895f-2f87fc98ca79",
   "metadata": {},
   "source": [
    "按照顺序逐行运行本代码，即可安装配置 MMCV、MMSegmentation环境\n",
    "\n",
    "推荐代码运行[云GPU环境](https://featurize.cn?s=d7ce99f842414bfcaea5662a97581bd1)：GPU RTX 3060、CUDA v11.2\n",
    "\n",
    "作者：同济子豪兄 2023-1-11"
   ]
  },
  {
   "cell_type": "markdown",
   "id": "63d0dc47-4601-49a3-8d25-12b4d24fa6f0",
   "metadata": {},
   "source": [
    "> 提示：以下代码运行时，若长时间运行卡着不动，可重启 kernel 后重新运行一遍"
   ]
  },
  {
   "cell_type": "markdown",
   "id": "6fc1c686-1267-4503-b9e4-bcb188a7f974",
   "metadata": {
    "tags": []
   },
   "source": [
    "## 安装Pytorch"
   ]
  },
  {
   "cell_type": "code",
   "execution_count": 1,
   "id": "2fef57fc-d5f0-4cd0-a134-1f025c15439f",
   "metadata": {},
   "outputs": [
    {
     "name": "stdout",
     "output_type": "stream",
     "text": [
      "Looking in indexes: https://pypi.tuna.tsinghua.edu.cn/simple\n",
      "Looking in links: https://download.pytorch.org/whl/cu113/torch_stable.html\n",
      "Collecting install\n",
      "  Downloading https://pypi.tuna.tsinghua.edu.cn/packages/4d/c8/8cbca135f9e167810756ea2bc34b028501936675fcbd7dadccf752fa4622/install-1.3.5-py3-none-any.whl (3.2 kB)\n",
      "Collecting torch==1.10.1+cu113\n",
      "  Downloading https://download.pytorch.org/whl/cu113/torch-1.10.1%2Bcu113-cp37-cp37m-linux_x86_64.whl (1821.5 MB)\n",
      "\u001b[K     |██████▉                         | 391.2 MB 115.4 MB/s eta 0:00:13"
     ]
    },
    {
     "name": "stderr",
     "output_type": "stream",
     "text": [
      "IOPub data rate exceeded.\n",
      "The Jupyter server will temporarily stop sending output\n",
      "to the client in order to avoid crashing it.\n",
      "To change this limit, set the config variable\n",
      "`--ServerApp.iopub_data_rate_limit`.\n",
      "\n",
      "Current values:\n",
      "ServerApp.iopub_data_rate_limit=1000000.0 (bytes/sec)\n",
      "ServerApp.rate_limit_window=3.0 (secs)\n",
      "\n"
     ]
    },
    {
     "name": "stdout",
     "output_type": "stream",
     "text": [
      "\u001b[K     |█████████████▎                  | 756.8 MB 112.6 MB/s eta 0:00:10"
     ]
    },
    {
     "name": "stderr",
     "output_type": "stream",
     "text": [
      "IOPub data rate exceeded.\n",
      "The Jupyter server will temporarily stop sending output\n",
      "to the client in order to avoid crashing it.\n",
      "To change this limit, set the config variable\n",
      "`--ServerApp.iopub_data_rate_limit`.\n",
      "\n",
      "Current values:\n",
      "ServerApp.iopub_data_rate_limit=1000000.0 (bytes/sec)\n",
      "ServerApp.rate_limit_window=3.0 (secs)\n",
      "\n"
     ]
    },
    {
     "name": "stdout",
     "output_type": "stream",
     "text": [
      "\u001b[K     |███████████████████▋            | 1118.4 MB 99.3 MB/s eta 0:00:08"
     ]
    },
    {
     "name": "stderr",
     "output_type": "stream",
     "text": [
      "IOPub data rate exceeded.\n",
      "The Jupyter server will temporarily stop sending output\n",
      "to the client in order to avoid crashing it.\n",
      "To change this limit, set the config variable\n",
      "`--ServerApp.iopub_data_rate_limit`.\n",
      "\n",
      "Current values:\n",
      "ServerApp.iopub_data_rate_limit=1000000.0 (bytes/sec)\n",
      "ServerApp.rate_limit_window=3.0 (secs)\n",
      "\n"
     ]
    },
    {
     "name": "stdout",
     "output_type": "stream",
     "text": [
      "\u001b[K     |██████████████████████████      | 1485.9 MB 116.5 MB/s eta 0:00:03"
     ]
    },
    {
     "name": "stderr",
     "output_type": "stream",
     "text": [
      "IOPub data rate exceeded.\n",
      "The Jupyter server will temporarily stop sending output\n",
      "to the client in order to avoid crashing it.\n",
      "To change this limit, set the config variable\n",
      "`--ServerApp.iopub_data_rate_limit`.\n",
      "\n",
      "Current values:\n",
      "ServerApp.iopub_data_rate_limit=1000000.0 (bytes/sec)\n",
      "ServerApp.rate_limit_window=3.0 (secs)\n",
      "\n"
     ]
    },
    {
     "name": "stdout",
     "output_type": "stream",
     "text": [
      "\u001b[K     |████████████████████████████████| 1821.5 MB 123.1 MB/s eta 0:00:01\n",
      "\u001b[?25hCollecting torchvision==0.11.2+cu113\n",
      "  Downloading https://download.pytorch.org/whl/cu113/torchvision-0.11.2%2Bcu113-cp37-cp37m-linux_x86_64.whl (24.6 MB)\n",
      "\u001b[K     |████████████████████████████████| 24.6 MB 66.9 MB/s eta 0:00:01\n",
      "\u001b[?25hCollecting torchaudio==0.10.1+cu113\n",
      "  Downloading https://download.pytorch.org/whl/cu113/torchaudio-0.10.1%2Bcu113-cp37-cp37m-linux_x86_64.whl (2.9 MB)\n",
      "\u001b[K     |████████████████████████████████| 2.9 MB 13.5 MB/s eta 0:00:01\n",
      "\u001b[?25hRequirement already satisfied: typing-extensions in /environment/miniconda3/lib/python3.7/site-packages (from torch==1.10.1+cu113) (4.0.1)\n",
      "Requirement already satisfied: numpy in /environment/miniconda3/lib/python3.7/site-packages (from torchvision==0.11.2+cu113) (1.21.4)\n",
      "Requirement already satisfied: pillow!=8.3.0,>=5.3.0 in /environment/miniconda3/lib/python3.7/site-packages (from torchvision==0.11.2+cu113) (8.4.0)\n",
      "Installing collected packages: torch, torchvision, torchaudio, install\n",
      "  Attempting uninstall: torch\n",
      "    Found existing installation: torch 1.10.0+cu113\n",
      "    Uninstalling torch-1.10.0+cu113:\n",
      "      Successfully uninstalled torch-1.10.0+cu113\n",
      "  Attempting uninstall: torchvision\n",
      "    Found existing installation: torchvision 0.11.1+cu113\n",
      "    Uninstalling torchvision-0.11.1+cu113:\n",
      "      Successfully uninstalled torchvision-0.11.1+cu113\n",
      "  Attempting uninstall: torchaudio\n",
      "    Found existing installation: torchaudio 0.10.0+cu113\n",
      "    Uninstalling torchaudio-0.10.0+cu113:\n",
      "      Successfully uninstalled torchaudio-0.10.0+cu113\n",
      "Successfully installed install-1.3.5 torch-1.10.1+cu113 torchaudio-0.10.1+cu113 torchvision-0.11.2+cu113\n"
     ]
    }
   ],
   "source": [
    "# 安装Pytorch?\n",
    "!pip3 install install torch==1.10.1+cu113 torchvision==0.11.2+cu113 torchaudio==0.10.1+cu113 -f https://download.pytorch.org/whl/cu113/torch_stable.html\n"
   ]
  },
  {
   "cell_type": "markdown",
   "id": "054b64e4-4796-4136-b45e-3664b281cf30",
   "metadata": {},
   "source": [
    "## 用MIM安装MMCV"
   ]
  },
  {
   "cell_type": "code",
   "execution_count": 2,
   "id": "83b1c9e3-0d69-423d-a8a2-172d18dfdb33",
   "metadata": {},
   "outputs": [
    {
     "name": "stdout",
     "output_type": "stream",
     "text": [
      "Looking in indexes: https://pypi.tuna.tsinghua.edu.cn/simple\n",
      "Collecting openmim\n",
      "  Downloading https://pypi.tuna.tsinghua.edu.cn/packages/ef/2f/dc7ce077629d1234f9cf7f17896cdcd49be0791da99aea673cced49b9700/openmim-0.3.6-py2.py3-none-any.whl (51 kB)\n",
      "\u001b[K     |████████████████████████████████| 51 kB 2.8 MB/s  eta 0:00:01\n",
      "\u001b[?25hRequirement already satisfied: Click in /environment/miniconda3/lib/python3.7/site-packages (from openmim) (7.1.2)\n",
      "Collecting rich\n",
      "  Downloading https://pypi.tuna.tsinghua.edu.cn/packages/a8/c6/14b77fe7a5fab66ffbeffd6706f598d00a52702846bce0e2339bcf9dd20c/rich-13.3.1-py3-none-any.whl (239 kB)\n",
      "\u001b[K     |████████████████████████████████| 239 kB 77.9 MB/s eta 0:00:01\n",
      "\u001b[?25hRequirement already satisfied: pandas in /environment/miniconda3/lib/python3.7/site-packages (from openmim) (1.3.4)\n",
      "Collecting model-index\n",
      "  Downloading https://pypi.tuna.tsinghua.edu.cn/packages/0f/a6/4d4cbbef704f186d143e2859296a610a355992e4eae71582bd598093b36a/model_index-0.1.11-py3-none-any.whl (34 kB)\n",
      "Requirement already satisfied: requests in /environment/miniconda3/lib/python3.7/site-packages (from openmim) (2.24.0)\n",
      "Requirement already satisfied: colorama in /environment/miniconda3/lib/python3.7/site-packages (from openmim) (0.4.4)\n",
      "Requirement already satisfied: tabulate in /environment/miniconda3/lib/python3.7/site-packages (from openmim) (0.8.7)\n",
      "Requirement already satisfied: pip>=19.3 in /environment/miniconda3/lib/python3.7/site-packages (from openmim) (21.1.3)\n",
      "Requirement already satisfied: markdown in /environment/miniconda3/lib/python3.7/site-packages (from model-index->openmim) (3.3.6)\n",
      "Requirement already satisfied: pyyaml in /environment/miniconda3/lib/python3.7/site-packages (from model-index->openmim) (6.0)\n",
      "Collecting ordered-set\n",
      "  Downloading https://pypi.tuna.tsinghua.edu.cn/packages/33/55/af02708f230eb77084a299d7b08175cff006dea4f2721074b92cdb0296c0/ordered_set-4.1.0-py3-none-any.whl (7.6 kB)\n",
      "Requirement already satisfied: importlib-metadata>=4.4 in /environment/miniconda3/lib/python3.7/site-packages (from markdown->model-index->openmim) (4.8.2)\n",
      "Requirement already satisfied: typing-extensions>=3.6.4 in /environment/miniconda3/lib/python3.7/site-packages (from importlib-metadata>=4.4->markdown->model-index->openmim) (4.0.1)\n",
      "Requirement already satisfied: zipp>=0.5 in /environment/miniconda3/lib/python3.7/site-packages (from importlib-metadata>=4.4->markdown->model-index->openmim) (3.6.0)\n",
      "Requirement already satisfied: pytz>=2017.3 in /environment/miniconda3/lib/python3.7/site-packages (from pandas->openmim) (2021.3)\n",
      "Requirement already satisfied: numpy>=1.17.3 in /environment/miniconda3/lib/python3.7/site-packages (from pandas->openmim) (1.21.4)\n",
      "Requirement already satisfied: python-dateutil>=2.7.3 in /environment/miniconda3/lib/python3.7/site-packages (from pandas->openmim) (2.8.2)\n",
      "Requirement already satisfied: six>=1.5 in /environment/miniconda3/lib/python3.7/site-packages (from python-dateutil>=2.7.3->pandas->openmim) (1.16.0)\n",
      "Requirement already satisfied: urllib3!=1.25.0,!=1.25.1,<1.26,>=1.21.1 in /environment/miniconda3/lib/python3.7/site-packages (from requests->openmim) (1.25.11)\n",
      "Requirement already satisfied: certifi>=2017.4.17 in /environment/miniconda3/lib/python3.7/site-packages (from requests->openmim) (2021.5.30)\n",
      "Requirement already satisfied: idna<3,>=2.5 in /environment/miniconda3/lib/python3.7/site-packages (from requests->openmim) (2.10)\n",
      "Requirement already satisfied: chardet<4,>=3.0.2 in /environment/miniconda3/lib/python3.7/site-packages (from requests->openmim) (3.0.4)\n",
      "Collecting markdown-it-py<3.0.0,>=2.1.0\n",
      "  Downloading https://pypi.tuna.tsinghua.edu.cn/packages/f9/3f/ecd1b708973b9a3e4574b43cffc1ce8eb98696da34f1a1c44a68c3c0d737/markdown_it_py-2.1.0-py3-none-any.whl (84 kB)\n",
      "\u001b[K     |████████████████████████████████| 84 kB 48.5 MB/s eta 0:00:01\n",
      "\u001b[?25hCollecting pygments<3.0.0,>=2.14.0\n",
      "  Downloading https://pypi.tuna.tsinghua.edu.cn/packages/0b/42/d9d95cc461f098f204cd20c85642ae40fbff81f74c300341b8d0e0df14e0/Pygments-2.14.0-py3-none-any.whl (1.1 MB)\n",
      "\u001b[K     |████████████████████████████████| 1.1 MB 70.0 MB/s eta 0:00:01\n",
      "\u001b[?25hCollecting mdurl~=0.1\n",
      "  Downloading https://pypi.tuna.tsinghua.edu.cn/packages/b3/38/89ba8ad64ae25be8de66a6d463314cf1eb366222074cfda9ee839c56a4b4/mdurl-0.1.2-py3-none-any.whl (10.0 kB)\n",
      "Installing collected packages: mdurl, pygments, ordered-set, markdown-it-py, rich, model-index, openmim\n",
      "  Attempting uninstall: pygments\n",
      "    Found existing installation: Pygments 2.10.0\n",
      "    Uninstalling Pygments-2.10.0:\n",
      "      Successfully uninstalled Pygments-2.10.0\n",
      "Successfully installed markdown-it-py-2.1.0 mdurl-0.1.2 model-index-0.1.11 openmim-0.3.6 ordered-set-4.1.0 pygments-2.14.0 rich-13.3.1\n",
      "Looking in indexes: https://pypi.tuna.tsinghua.edu.cn/simple\n",
      "Looking in links: https://download.openmmlab.com/mmcv/dist/cu113/torch1.10.0/index.html\n",
      "Collecting mmengine\n",
      "  Downloading https://pypi.tuna.tsinghua.edu.cn/packages/4a/e4/ae2c4e856f6695e617424f0be6ced7ac84a87aaad0e80dc8fd7ffa46f1b9/mmengine-0.5.0-py3-none-any.whl (331 kB)\n",
      "\u001b[K     |████████████████████████████████| 331 kB 60.3 MB/s eta 0:00:01\n",
      "\u001b[?25hRequirement already satisfied: opencv-python>=3 in /environment/miniconda3/lib/python3.7/site-packages (from mmengine) (4.5.4.60)\n",
      "Collecting addict\n",
      "  Downloading https://pypi.tuna.tsinghua.edu.cn/packages/6a/00/b08f23b7d7e1e14ce01419a467b583edbb93c6cdb8654e54a9cc579cd61f/addict-2.4.0-py3-none-any.whl (3.8 kB)\n",
      "Requirement already satisfied: termcolor in /environment/miniconda3/lib/python3.7/site-packages (from mmengine) (1.1.0)\n",
      "Requirement already satisfied: matplotlib in /environment/miniconda3/lib/python3.7/site-packages (from mmengine) (3.5.0)\n",
      "Requirement already satisfied: yapf in /environment/miniconda3/lib/python3.7/site-packages (from mmengine) (0.31.0)\n",
      "Requirement already satisfied: numpy in /environment/miniconda3/lib/python3.7/site-packages (from mmengine) (1.21.4)\n",
      "Requirement already satisfied: pyyaml in /environment/miniconda3/lib/python3.7/site-packages (from mmengine) (6.0)\n",
      "Requirement already satisfied: rich in /environment/miniconda3/lib/python3.7/site-packages (from mmengine) (13.3.1)\n",
      "Requirement already satisfied: fonttools>=4.22.0 in /environment/miniconda3/lib/python3.7/site-packages (from matplotlib->mmengine) (4.28.3)\n",
      "Requirement already satisfied: setuptools-scm>=4 in /environment/miniconda3/lib/python3.7/site-packages (from matplotlib->mmengine) (6.3.2)\n",
      "Requirement already satisfied: pillow>=6.2.0 in /environment/miniconda3/lib/python3.7/site-packages (from matplotlib->mmengine) (8.4.0)\n",
      "Requirement already satisfied: packaging>=20.0 in /environment/miniconda3/lib/python3.7/site-packages (from matplotlib->mmengine) (21.3)\n",
      "Requirement already satisfied: cycler>=0.10 in /environment/miniconda3/lib/python3.7/site-packages (from matplotlib->mmengine) (0.11.0)\n",
      "Requirement already satisfied: python-dateutil>=2.7 in /environment/miniconda3/lib/python3.7/site-packages (from matplotlib->mmengine) (2.8.2)\n",
      "Requirement already satisfied: kiwisolver>=1.0.1 in /environment/miniconda3/lib/python3.7/site-packages (from matplotlib->mmengine) (1.3.2)\n",
      "Requirement already satisfied: pyparsing>=2.2.1 in /environment/miniconda3/lib/python3.7/site-packages (from matplotlib->mmengine) (3.0.6)\n",
      "Requirement already satisfied: six>=1.5 in /environment/miniconda3/lib/python3.7/site-packages (from python-dateutil>=2.7->matplotlib->mmengine) (1.16.0)\n",
      "Requirement already satisfied: tomli>=1.0.0 in /environment/miniconda3/lib/python3.7/site-packages (from setuptools-scm>=4->matplotlib->mmengine) (1.2.2)\n",
      "Requirement already satisfied: setuptools in /environment/miniconda3/lib/python3.7/site-packages (from setuptools-scm>=4->matplotlib->mmengine) (52.0.0.post20210125)\n",
      "Requirement already satisfied: pygments<3.0.0,>=2.14.0 in /environment/miniconda3/lib/python3.7/site-packages (from rich->mmengine) (2.14.0)\n",
      "Requirement already satisfied: typing-extensions<5.0,>=4.0.0 in /environment/miniconda3/lib/python3.7/site-packages (from rich->mmengine) (4.0.1)\n",
      "Requirement already satisfied: markdown-it-py<3.0.0,>=2.1.0 in /environment/miniconda3/lib/python3.7/site-packages (from rich->mmengine) (2.1.0)\n",
      "Requirement already satisfied: mdurl~=0.1 in /environment/miniconda3/lib/python3.7/site-packages (from markdown-it-py<3.0.0,>=2.1.0->rich->mmengine) (0.1.2)\n",
      "Installing collected packages: addict, mmengine\n",
      "Successfully installed addict-2.4.0 mmengine-0.5.0\n",
      "Looking in indexes: https://pypi.tuna.tsinghua.edu.cn/simple\n",
      "Looking in links: https://download.openmmlab.com/mmcv/dist/cu113/torch1.10.0/index.html\n",
      "Collecting mmcv==2.0.0rc3\n",
      "  Downloading https://download.openmmlab.com/mmcv/dist/cu113/torch1.10.0/mmcv-2.0.0rc3-cp37-cp37m-manylinux1_x86_64.whl (57.9 MB)\n",
      "\u001b[K     |████████████████████████████████| 57.9 MB 214 kB/s eta 0:00:012\n",
      "\u001b[?25hRequirement already satisfied: numpy in /environment/miniconda3/lib/python3.7/site-packages (from mmcv==2.0.0rc3) (1.21.4)\n",
      "Requirement already satisfied: Pillow in /environment/miniconda3/lib/python3.7/site-packages (from mmcv==2.0.0rc3) (8.4.0)\n",
      "Requirement already satisfied: packaging in /environment/miniconda3/lib/python3.7/site-packages (from mmcv==2.0.0rc3) (21.3)\n",
      "Requirement already satisfied: mmengine in /environment/miniconda3/lib/python3.7/site-packages (from mmcv==2.0.0rc3) (0.5.0)\n",
      "Requirement already satisfied: pyyaml in /environment/miniconda3/lib/python3.7/site-packages (from mmcv==2.0.0rc3) (6.0)\n",
      "Requirement already satisfied: opencv-python>=3 in /environment/miniconda3/lib/python3.7/site-packages (from mmcv==2.0.0rc3) (4.5.4.60)\n",
      "Requirement already satisfied: yapf in /environment/miniconda3/lib/python3.7/site-packages (from mmcv==2.0.0rc3) (0.31.0)\n",
      "Requirement already satisfied: addict in /environment/miniconda3/lib/python3.7/site-packages (from mmcv==2.0.0rc3) (2.4.0)\n",
      "Requirement already satisfied: termcolor in /environment/miniconda3/lib/python3.7/site-packages (from mmengine->mmcv==2.0.0rc3) (1.1.0)\n",
      "Requirement already satisfied: rich in /environment/miniconda3/lib/python3.7/site-packages (from mmengine->mmcv==2.0.0rc3) (13.3.1)\n",
      "Requirement already satisfied: matplotlib in /environment/miniconda3/lib/python3.7/site-packages (from mmengine->mmcv==2.0.0rc3) (3.5.0)\n",
      "Requirement already satisfied: cycler>=0.10 in /environment/miniconda3/lib/python3.7/site-packages (from matplotlib->mmengine->mmcv==2.0.0rc3) (0.11.0)\n",
      "Requirement already satisfied: pyparsing>=2.2.1 in /environment/miniconda3/lib/python3.7/site-packages (from matplotlib->mmengine->mmcv==2.0.0rc3) (3.0.6)\n",
      "Requirement already satisfied: python-dateutil>=2.7 in /environment/miniconda3/lib/python3.7/site-packages (from matplotlib->mmengine->mmcv==2.0.0rc3) (2.8.2)\n",
      "Requirement already satisfied: fonttools>=4.22.0 in /environment/miniconda3/lib/python3.7/site-packages (from matplotlib->mmengine->mmcv==2.0.0rc3) (4.28.3)\n",
      "Requirement already satisfied: kiwisolver>=1.0.1 in /environment/miniconda3/lib/python3.7/site-packages (from matplotlib->mmengine->mmcv==2.0.0rc3) (1.3.2)\n",
      "Requirement already satisfied: setuptools-scm>=4 in /environment/miniconda3/lib/python3.7/site-packages (from matplotlib->mmengine->mmcv==2.0.0rc3) (6.3.2)\n",
      "Requirement already satisfied: six>=1.5 in /environment/miniconda3/lib/python3.7/site-packages (from python-dateutil>=2.7->matplotlib->mmengine->mmcv==2.0.0rc3) (1.16.0)\n",
      "Requirement already satisfied: setuptools in /environment/miniconda3/lib/python3.7/site-packages (from setuptools-scm>=4->matplotlib->mmengine->mmcv==2.0.0rc3) (52.0.0.post20210125)\n",
      "Requirement already satisfied: tomli>=1.0.0 in /environment/miniconda3/lib/python3.7/site-packages (from setuptools-scm>=4->matplotlib->mmengine->mmcv==2.0.0rc3) (1.2.2)\n",
      "Requirement already satisfied: typing-extensions<5.0,>=4.0.0 in /environment/miniconda3/lib/python3.7/site-packages (from rich->mmengine->mmcv==2.0.0rc3) (4.0.1)\n",
      "Requirement already satisfied: pygments<3.0.0,>=2.14.0 in /environment/miniconda3/lib/python3.7/site-packages (from rich->mmengine->mmcv==2.0.0rc3) (2.14.0)\n",
      "Requirement already satisfied: markdown-it-py<3.0.0,>=2.1.0 in /environment/miniconda3/lib/python3.7/site-packages (from rich->mmengine->mmcv==2.0.0rc3) (2.1.0)\n",
      "Requirement already satisfied: mdurl~=0.1 in /environment/miniconda3/lib/python3.7/site-packages (from markdown-it-py<3.0.0,>=2.1.0->rich->mmengine->mmcv==2.0.0rc3) (0.1.2)\n",
      "Installing collected packages: mmcv\n",
      "Successfully installed mmcv-2.0.0rc3\n"
     ]
    }
   ],
   "source": [
    "!pip install -U openmim\n",
    "!mim install mmengine\n",
    "# !mim install 'mmcv>=2.0.0rc1'\n",
    "!mim install 'mmcv==2.0.0rc3'"
   ]
  },
  {
   "cell_type": "markdown",
   "id": "38c55520-071b-41de-91f4-3ec78e16bf27",
   "metadata": {},
   "source": [
    "## 安装其它工具包"
   ]
  },
  {
   "cell_type": "code",
   "execution_count": 3,
   "id": "eb4b3373-f117-46a9-ab43-e67753eb7c61",
   "metadata": {},
   "outputs": [
    {
     "name": "stdout",
     "output_type": "stream",
     "text": [
      "Looking in indexes: https://pypi.tuna.tsinghua.edu.cn/simple\n",
      "Requirement already satisfied: opencv-python in /environment/miniconda3/lib/python3.7/site-packages (4.5.4.60)\n",
      "Requirement already satisfied: pillow in /environment/miniconda3/lib/python3.7/site-packages (8.4.0)\n",
      "Requirement already satisfied: matplotlib in /environment/miniconda3/lib/python3.7/site-packages (3.5.0)\n",
      "Collecting seaborn\n",
      "  Downloading https://pypi.tuna.tsinghua.edu.cn/packages/8f/2e/17bbb83fbf102687bb2aa3d808add39da820a7698159302a1a69bb82e01c/seaborn-0.12.2-py3-none-any.whl (293 kB)\n",
      "\u001b[K     |████████████████████████████████| 293 kB 83.0 MB/s eta 0:00:01\n",
      "\u001b[?25hRequirement already satisfied: tqdm in /environment/miniconda3/lib/python3.7/site-packages (4.61.2)\n",
      "Collecting mmdet>=3.0.0rc1\n",
      "  Downloading https://pypi.tuna.tsinghua.edu.cn/packages/b3/34/51a94aa4923bf3573a369acc67c6e18ad2bc159adb95a0ac3ca7044a8982/mmdet-3.0.0rc5-py3-none-any.whl (1.6 MB)\n",
      "\u001b[K     |████████████████████████████████| 1.6 MB 114.8 MB/s eta 0:00:01\n",
      "\u001b[?25hRequirement already satisfied: numpy in /environment/miniconda3/lib/python3.7/site-packages (from mmdet>=3.0.0rc1) (1.21.4)\n",
      "Requirement already satisfied: six in /environment/miniconda3/lib/python3.7/site-packages (from mmdet>=3.0.0rc1) (1.16.0)\n",
      "Collecting terminaltables\n",
      "  Downloading https://pypi.tuna.tsinghua.edu.cn/packages/c4/fb/ea621e0a19733e01fe4005d46087d383693c0f4a8f824b47d8d4122c87e0/terminaltables-3.1.10-py2.py3-none-any.whl (15 kB)\n",
      "Requirement already satisfied: scipy in /environment/miniconda3/lib/python3.7/site-packages (from mmdet>=3.0.0rc1) (1.7.3)\n",
      "Collecting pycocotools\n",
      "  Downloading https://pypi.tuna.tsinghua.edu.cn/packages/ef/c6/90220be3b39fbc4cbd203775ca47dd8dc97fae06fbd2b500637395621b7c/pycocotools-2.0.6.tar.gz (24 kB)\n",
      "  Installing build dependencies ... \u001b[?25ldone\n",
      "\u001b[?25h  Getting requirements to build wheel ... \u001b[?25ldone\n",
      "\u001b[?25h    Preparing wheel metadata ... \u001b[?25ldone\n",
      "\u001b[?25hRequirement already satisfied: python-dateutil>=2.7 in /environment/miniconda3/lib/python3.7/site-packages (from matplotlib) (2.8.2)\n",
      "Requirement already satisfied: setuptools-scm>=4 in /environment/miniconda3/lib/python3.7/site-packages (from matplotlib) (6.3.2)\n",
      "Requirement already satisfied: fonttools>=4.22.0 in /environment/miniconda3/lib/python3.7/site-packages (from matplotlib) (4.28.3)\n",
      "Requirement already satisfied: pyparsing>=2.2.1 in /environment/miniconda3/lib/python3.7/site-packages (from matplotlib) (3.0.6)\n",
      "Requirement already satisfied: packaging>=20.0 in /environment/miniconda3/lib/python3.7/site-packages (from matplotlib) (21.3)\n",
      "Requirement already satisfied: cycler>=0.10 in /environment/miniconda3/lib/python3.7/site-packages (from matplotlib) (0.11.0)\n",
      "Requirement already satisfied: kiwisolver>=1.0.1 in /environment/miniconda3/lib/python3.7/site-packages (from matplotlib) (1.3.2)\n",
      "Requirement already satisfied: setuptools in /environment/miniconda3/lib/python3.7/site-packages (from setuptools-scm>=4->matplotlib) (52.0.0.post20210125)\n",
      "Requirement already satisfied: tomli>=1.0.0 in /environment/miniconda3/lib/python3.7/site-packages (from setuptools-scm>=4->matplotlib) (1.2.2)\n",
      "Requirement already satisfied: typing_extensions in /environment/miniconda3/lib/python3.7/site-packages (from seaborn) (4.0.1)\n",
      "Requirement already satisfied: pandas>=0.25 in /environment/miniconda3/lib/python3.7/site-packages (from seaborn) (1.3.4)\n",
      "Requirement already satisfied: pytz>=2017.3 in /environment/miniconda3/lib/python3.7/site-packages (from pandas>=0.25->seaborn) (2021.3)\n",
      "Building wheels for collected packages: pycocotools\n",
      "  Building wheel for pycocotools (PEP 517) ... \u001b[?25ldone\n",
      "\u001b[?25h  Created wheel for pycocotools: filename=pycocotools-2.0.6-cp37-cp37m-linux_x86_64.whl size=373930 sha256=2d4ea3a782cbccb93366abd616c8028b31ddfbfd66016153c22839445637a0d8\n",
      "  Stored in directory: /home/featurize/.cache/pip/wheels/f8/94/70/046149e666bd5812b7de6b87a28dcef238f7162f4108e0b3d8\n",
      "Successfully built pycocotools\n",
      "Installing collected packages: terminaltables, pycocotools, seaborn, mmdet\n",
      "Successfully installed mmdet-3.0.0rc5 pycocotools-2.0.6 seaborn-0.12.2 terminaltables-3.1.10\n"
     ]
    }
   ],
   "source": [
    "!pip install opencv-python pillow matplotlib seaborn tqdm 'mmdet>=3.0.0rc1' -i https://pypi.tuna.tsinghua.edu.cn/simple\n"
   ]
  },
  {
   "cell_type": "markdown",
   "id": "0defb2f8-d5ab-4ee4-a66f-85cc17c221de",
   "metadata": {
    "tags": []
   },
   "source": [
    "## 下载 MMSegmentation"
   ]
  },
  {
   "cell_type": "code",
   "execution_count": 4,
   "id": "89026868-58b1-4755-aca3-ded98451e906",
   "metadata": {},
   "outputs": [],
   "source": [
    "# 删掉原有的 mmsegmentation 文件夹（如有）\n",
    "!rm -rf mmsegmentation"
   ]
  },
  {
   "cell_type": "code",
   "execution_count": 5,
   "id": "09c51fee-d040-46cf-8d86-c0248ab7fe84",
   "metadata": {},
   "outputs": [
    {
     "name": "stdout",
     "output_type": "stream",
     "text": [
      "正克隆到 'mmsegmentation'...\n",
      "remote: Enumerating objects: 13300, done.\u001b[K\n",
      "remote: Counting objects: 100% (202/202), done.\u001b[K\n",
      "remote: Compressing objects: 100% (172/172), done.\u001b[K\n",
      "remote: Total 13300 (delta 63), reused 101 (delta 23), pack-reused 13098\u001b[K\n",
      "接收对象中: 100% (13300/13300), 15.44 MiB | 17.04 MiB/s, 完成.\n",
      "处理 delta 中: 100% (9515/9515), 完成.\n",
      "正在更新文件: 100% (1323/1323), 完成.\n"
     ]
    }
   ],
   "source": [
    "# 从 github 上下载最新的 mmsegmentation 源代码\n",
    "!git clone https://github.com/open-mmlab/mmsegmentation.git -b dev-1.x"
   ]
  },
  {
   "cell_type": "code",
   "execution_count": 4,
   "id": "b6a71270-f87b-4cf3-87f0-771f45f38c28",
   "metadata": {},
   "outputs": [],
   "source": [
    "# 进入主目录\n",
    "import os\n",
    "os.chdir('mmsegmentation')"
   ]
  },
  {
   "cell_type": "markdown",
   "id": "f1cd1922-e20a-459a-bf45-e826d8245d88",
   "metadata": {},
   "source": [
    "## 安装 MMSegmentation"
   ]
  },
  {
   "cell_type": "code",
   "execution_count": 5,
   "id": "21e78bae-1d33-478d-8b72-5e8584f6cadf",
   "metadata": {},
   "outputs": [
    {
     "name": "stdout",
     "output_type": "stream",
     "text": [
      "Using pip 21.1.3 from /environment/miniconda3/lib/python3.7/site-packages/pip (python 3.7)\n",
      "Non-user install because site-packages writeable\n",
      "Created temporary directory: /tmp/pip-ephem-wheel-cache-qvhkt780\n",
      "Created temporary directory: /tmp/pip-req-tracker-9_zmvp6r\n",
      "Initialized build tracking at /tmp/pip-req-tracker-9_zmvp6r\n",
      "Created build tracker: /tmp/pip-req-tracker-9_zmvp6r\n",
      "Entered build tracker: /tmp/pip-req-tracker-9_zmvp6r\n",
      "Created temporary directory: /tmp/pip-install-3utbvca9\n",
      "Looking in indexes: https://pypi.tuna.tsinghua.edu.cn/simple\n",
      "Obtaining file:///home/featurize/work/MMSegmentation%E6%95%99%E7%A8%8B/mmsegmentation\n",
      "  Added file:///home/featurize/work/MMSegmentation%E6%95%99%E7%A8%8B/mmsegmentation to build tracker '/tmp/pip-req-tracker-9_zmvp6r'\n",
      "    Running setup.py (path:/home/featurize/work/MMSegmentation教程/mmsegmentation/setup.py) egg_info for package from file:///home/featurize/work/MMSegmentation%E6%95%99%E7%A8%8B/mmsegmentation\n",
      "    Created temporary directory: /tmp/pip-pip-egg-info-6ocls45f\n",
      "    Running command python setup.py egg_info\n",
      "    running egg_info\n",
      "    creating /tmp/pip-pip-egg-info-6ocls45f/mmsegmentation.egg-info\n",
      "    writing /tmp/pip-pip-egg-info-6ocls45f/mmsegmentation.egg-info/PKG-INFO\n",
      "    writing dependency_links to /tmp/pip-pip-egg-info-6ocls45f/mmsegmentation.egg-info/dependency_links.txt\n",
      "    writing requirements to /tmp/pip-pip-egg-info-6ocls45f/mmsegmentation.egg-info/requires.txt\n",
      "    writing top-level names to /tmp/pip-pip-egg-info-6ocls45f/mmsegmentation.egg-info/top_level.txt\n",
      "    writing manifest file '/tmp/pip-pip-egg-info-6ocls45f/mmsegmentation.egg-info/SOURCES.txt'\n",
      "    reading manifest template 'MANIFEST.in'\n",
      "    writing manifest file '/tmp/pip-pip-egg-info-6ocls45f/mmsegmentation.egg-info/SOURCES.txt'\n",
      "  Source in /home/featurize/work/MMSegmentation教程/mmsegmentation has version 1.0.0rc4, which satisfies requirement mmsegmentation==1.0.0rc4 from file:///home/featurize/work/MMSegmentation%E6%95%99%E7%A8%8B/mmsegmentation\n",
      "  Removed mmsegmentation==1.0.0rc4 from file:///home/featurize/work/MMSegmentation%E6%95%99%E7%A8%8B/mmsegmentation from build tracker '/tmp/pip-req-tracker-9_zmvp6r'\n",
      "Requirement already satisfied: matplotlib in /environment/miniconda3/lib/python3.7/site-packages (from mmsegmentation==1.0.0rc4) (3.5.0)\n",
      "Requirement already satisfied: numpy in /environment/miniconda3/lib/python3.7/site-packages (from mmsegmentation==1.0.0rc4) (1.21.4)\n",
      "Requirement already satisfied: packaging in /environment/miniconda3/lib/python3.7/site-packages (from mmsegmentation==1.0.0rc4) (21.3)\n",
      "1 location(s) to search for versions of prettytable:\n",
      "* https://pypi.tuna.tsinghua.edu.cn/simple/prettytable/\n",
      "Fetching project page and analyzing links: https://pypi.tuna.tsinghua.edu.cn/simple/prettytable/\n",
      "Getting page https://pypi.tuna.tsinghua.edu.cn/simple/prettytable/\n",
      "Found index url https://pypi.tuna.tsinghua.edu.cn/simple\n",
      "Looking up \"https://pypi.tuna.tsinghua.edu.cn/simple/prettytable/\" in the cache\n",
      "Request header has \"max_age\" as 0, cache bypassed\n",
      "Starting new HTTPS connection (1): pypi.tuna.tsinghua.edu.cn:443\n",
      "https://pypi.tuna.tsinghua.edu.cn:443 \"GET /simple/prettytable/ HTTP/1.1\" 200 None\n",
      "Updating cache with response from \"https://pypi.tuna.tsinghua.edu.cn/simple/prettytable/\"\n",
      "Caching due to etag\n",
      "  Skipping link: unsupported archive format: .egg: https://pypi.tuna.tsinghua.edu.cn/packages/aa/2d/6dda982fc3ff451d06b5840a4722b1ddd6d611c05af26241f660ea1da598/prettytable-0.1-py2.6.egg#sha256=4b78eaacea36bf7321d72bbd6c5ae5b8d9b243b7fabb9c6a5d7bce1e6360b0c5 (from https://pypi.tuna.tsinghua.edu.cn/simple/prettytable/)\n",
      "  Skipping link: unsupported archive format: .egg: https://pypi.tuna.tsinghua.edu.cn/packages/fc/96/15c68452c4b59791edf3e1f2527cde7199a4d7b6cc673bb94bc60d86dd55/prettytable-0.2-py2.6.egg#sha256=7ace8226edca26af6ddbed83c64c15f8188fe183581e2e59c68826ccbe28e1ce (from https://pypi.tuna.tsinghua.edu.cn/simple/prettytable/)\n",
      "  Skipping link: unsupported archive format: .egg: https://pypi.tuna.tsinghua.edu.cn/packages/04/d5/942a2bbaca693ff7942590f51959b8dd12a760598e4c98d95a31c4b2d991/prettytable-0.2.1-py2.6.egg#sha256=15d51ec1aca83a8b6513f3b220619063382d4ff45953f944bf86beca8a647796 (from https://pypi.tuna.tsinghua.edu.cn/simple/prettytable/)\n",
      "  Skipping link: unsupported archive format: .egg: https://pypi.tuna.tsinghua.edu.cn/packages/cb/2b/89865a1d735309404c092f6ac99dba1c5b1cb2ab832b7825d24d63312943/prettytable-0.3-py2.6.egg#sha256=04fc99a3ab8e9a6e62c5c8741d334a05229378c8c79ea3df8a8c0d09b1b4c66e (from https://pypi.tuna.tsinghua.edu.cn/simple/prettytable/)\n",
      "  Found link https://pypi.tuna.tsinghua.edu.cn/packages/56/e4/e21204d3a9757b64a79f3a9800056676f57f9c5f70245ce53b7012e31546/prettytable-0.3.tar.gz#sha256=1523ea10d9c6de00986b3b48144a8aeff734378f2be22570c90e07c207c8207a (from https://pypi.tuna.tsinghua.edu.cn/simple/prettytable/), version: 0.3\n",
      "  Found link https://pypi.tuna.tsinghua.edu.cn/packages/24/10/c9c6551e075154a7e78108cbb52db44965fe0e6800b271b76beeaffa0d15/prettytable-0.3.zip#sha256=892974c5e8fac7c8d73a5826e17777299ebf89fec03b00a98fefd9b2d2e199c5 (from https://pypi.tuna.tsinghua.edu.cn/simple/prettytable/), version: 0.3\n",
      "  Found link https://pypi.tuna.tsinghua.edu.cn/packages/30/a5/43f03a549f9235e390c9fd6a081082f9c55c38b450969136b40d7122590a/prettytable-0.4.tar.gz#sha256=29cb18d581a13fb276eac068cf3d264b2591a3c2b3499b97a6111358c4fa3ac8 (from https://pypi.tuna.tsinghua.edu.cn/simple/prettytable/), version: 0.4\n",
      "  Found link https://pypi.tuna.tsinghua.edu.cn/packages/24/42/6a030394c00c62b8a51093189fa287dff0aa598d695c36a276aa1b4f7ff8/prettytable-0.4.zip#sha256=e6c7f46b6ba3089d69ab5330ee8b4402eb14e2c54d9d29d6502ce333718b143e (from https://pypi.tuna.tsinghua.edu.cn/simple/prettytable/), version: 0.4\n",
      "  Found link https://pypi.tuna.tsinghua.edu.cn/packages/06/07/fcfe808e157da9cc442ada347532c6ef5c31c23a594e6b0ddf8f35475f31/prettytable-0.5.tar.gz#sha256=52dbc76b9fdc53f6386ce9380a93653dbff20717296605449b86a73f426b7d8b (from https://pypi.tuna.tsinghua.edu.cn/simple/prettytable/), version: 0.5\n",
      "  Found link https://pypi.tuna.tsinghua.edu.cn/packages/06/a1/fd7dfad67d52c005776458c97e2800114102e6cb9722526210868a48628c/prettytable-0.5.zip#sha256=a381ba555b8bf10e0b8e59c6c5743b30174ce77340defe880e6e30fe238c3906 (from https://pypi.tuna.tsinghua.edu.cn/simple/prettytable/), version: 0.5\n",
      "  Found link https://pypi.tuna.tsinghua.edu.cn/packages/b8/79/4808e86b6b77b0835cc973dbc737a79cb4575db5f10ea6b5d441f6b92ebd/prettytable-0.6.1.tar.bz2#sha256=7935bd8ae5c15b31703bd10eb4a0815288852dd6584e5e5eff33d1a3af6559b6 (from https://pypi.tuna.tsinghua.edu.cn/simple/prettytable/), version: 0.6.1\n",
      "  Found link https://pypi.tuna.tsinghua.edu.cn/packages/91/d4/9dee5e6d9ac63d2c6863caa8a91df650cedcb9119f1f5781b82526556eb5/prettytable-0.6.1.tar.gz#sha256=4085e520da758d6e22e115377ca5d3723f04fb186303879ab98277070444a9cb (from https://pypi.tuna.tsinghua.edu.cn/simple/prettytable/), version: 0.6.1\n",
      "  Found link https://pypi.tuna.tsinghua.edu.cn/packages/6f/84/2ab0fd71dbfd720eae77426b8901d5091d488810ba64c845d43d0faf738f/prettytable-0.6.1.zip#sha256=3f4c48d80af6d40d5a76dd1650dece386349d6df8b7b096fc8ec39fec21ceba7 (from https://pypi.tuna.tsinghua.edu.cn/simple/prettytable/), version: 0.6.1\n",
      "  Found link https://pypi.tuna.tsinghua.edu.cn/packages/f0/87/0b8f0498405bfa9ede62d00bcb0357e861afc14117791afbf07c1cd3fa86/prettytable-0.6.tar.bz2#sha256=babe57cb92d4a30185822521cbcfe40c7966db8e7de70c8e99614a9bee61182d (from https://pypi.tuna.tsinghua.edu.cn/simple/prettytable/), version: 0.6\n",
      "  Found link https://pypi.tuna.tsinghua.edu.cn/packages/dc/17/7054874b05bfb10edc956a9205b5c63c8e9b6d5d71bb7121265ab309b4df/prettytable-0.6.tar.gz#sha256=4758bfe9d2fe203e7620fb9e6493e5206861297ea089974be0fc32d4b00a780c (from https://pypi.tuna.tsinghua.edu.cn/simple/prettytable/), version: 0.6\n",
      "  Found link https://pypi.tuna.tsinghua.edu.cn/packages/dd/12/6b03e7731c51d5bfdbdea33c2107914cdc1c34bff1d03eb2853e7688f18a/prettytable-0.6.zip#sha256=cc107f07fa8373c82b84e8b12b2bd14d7ddf09558538b01b0d7ebbd83f8f427f (from https://pypi.tuna.tsinghua.edu.cn/simple/prettytable/), version: 0.6\n",
      "  Found link https://pypi.tuna.tsinghua.edu.cn/packages/ea/cc/f72eb63ea90fcca0a89eaa476e156205320b1ceefcd4ab37b8b83f5a9842/prettytable-0.7.1.tar.bz2#sha256=599bc5b4b9602e28294cf795733c889c26dd934aa7e0ee9cff9b905d4fbad188 (from https://pypi.tuna.tsinghua.edu.cn/simple/prettytable/), version: 0.7.1\n",
      "  Found link https://pypi.tuna.tsinghua.edu.cn/packages/ff/a4/6d21b97807e910d8a8523c6c20d53732a10cccee04a56e4ee80a77cca9e7/prettytable-0.7.1.tar.gz#sha256=686bda277474e5cc3cff02596d72c2d6f171170225af3dedffe78cbf958c6348 (from https://pypi.tuna.tsinghua.edu.cn/simple/prettytable/), version: 0.7.1\n",
      "  Found link https://pypi.tuna.tsinghua.edu.cn/packages/b9/a5/2bf4329f87105289a3b9bdd806baf0726f81a6b73dd429b5e6b1792cdcf2/prettytable-0.7.1.zip#sha256=0e0a9c663cdd2c084ca3090702a8449cae9e804d46ef29f0a909629467524ddb (from https://pypi.tuna.tsinghua.edu.cn/simple/prettytable/), version: 0.7.1\n",
      "  Found link https://pypi.tuna.tsinghua.edu.cn/packages/ef/30/4b0746848746ed5941f052479e7c23d2b56d174b82f4fd34a25e389831f5/prettytable-0.7.2.tar.bz2#sha256=853c116513625c738dc3ce1aee148b5b5757a86727e67eff6502c7ca59d43c36 (from https://pypi.tuna.tsinghua.edu.cn/simple/prettytable/), version: 0.7.2\n",
      "  Found link https://pypi.tuna.tsinghua.edu.cn/packages/e0/a1/36203205f77ccf98f3c6cf17cf068c972e6458d7e58509ca66da949ca347/prettytable-0.7.2.tar.gz#sha256=2d5460dc9db74a32bcc8f9f67de68b2c4f4d2f01fa3bd518764c69156d9cacd9 (from https://pypi.tuna.tsinghua.edu.cn/simple/prettytable/), version: 0.7.2\n",
      "  Found link https://pypi.tuna.tsinghua.edu.cn/packages/23/4a/9785a37ed6425918af69909af715ced0fa261e518601a0c70309a708fd08/prettytable-0.7.2.zip#sha256=a53da3b43d7a5c229b5e3ca2892ef982c46b7923b51e98f0db49956531211c4f (from https://pypi.tuna.tsinghua.edu.cn/simple/prettytable/), version: 0.7.2\n",
      "  Found link https://pypi.tuna.tsinghua.edu.cn/packages/cc/16/d40b604035012ec5ed0588098b876f5c433de66bb615db647743bcc45886/prettytable-1.0.0-py2.py3-none-any.whl#sha256=d3fa464010bf7fec9384d3ea1a1e14398a9e3f2f0c5d052219366897bf6cb19c (from https://pypi.tuna.tsinghua.edu.cn/simple/prettytable/) (requires-python:>=2.7, !=3.0.*, !=3.1.*, !=3.2.*, !=3.3.*, !=3.4.*), version: 1.0.0\n",
      "  Found link https://pypi.tuna.tsinghua.edu.cn/packages/39/c6/9e2067eef39a677367887d6e41a8d0332d9fcbb98878f52e9192ffbd748a/prettytable-1.0.0.tar.gz#sha256=98a3b74b1980e6a9392498e3a2a5406f6bd836f412843c2be23d9c88671747ac (from https://pypi.tuna.tsinghua.edu.cn/simple/prettytable/) (requires-python:>=2.7, !=3.0.*, !=3.1.*, !=3.2.*, !=3.3.*, !=3.4.*), version: 1.0.0\n",
      "  Found link https://pypi.tuna.tsinghua.edu.cn/packages/39/da/8336296a830caa495a25304e12ffb32a8c3a9d2d08ba995f066fe16152e1/prettytable-1.0.1-py2.py3-none-any.whl#sha256=e7e464e8f7ecfd9a74c67f8da35f2a7da3d827235ba0a4737bb6d4b19f4a04bb (from https://pypi.tuna.tsinghua.edu.cn/simple/prettytable/) (requires-python:>=2.7, !=3.0.*, !=3.1.*, !=3.2.*, !=3.3.*, !=3.4.*), version: 1.0.1\n",
      "  Found link https://pypi.tuna.tsinghua.edu.cn/packages/69/89/564e58a41c8593be42e2522c43adc29f8a0f387cccec6ea0038c02113f6d/prettytable-1.0.1.tar.gz#sha256=6bb7f539903cb031fecb855b615cbcac8cd245ebc6fa51c6e23ab3386db89771 (from https://pypi.tuna.tsinghua.edu.cn/simple/prettytable/) (requires-python:>=2.7, !=3.0.*, !=3.1.*, !=3.2.*, !=3.3.*, !=3.4.*), version: 1.0.1\n",
      "  Found link https://pypi.tuna.tsinghua.edu.cn/packages/94/d5/52e48f3bcf66f838d411ad85c3ac9550c2451d082623e2d4d4df7411ed5c/prettytable-2.0.0-py3-none-any.whl#sha256=5dc7fcaca227f48deacd86958ae9d7b8c31a186fcb354bbb066763f20adf3eb9 (from https://pypi.tuna.tsinghua.edu.cn/simple/prettytable/) (requires-python:>=3.6), version: 2.0.0\n",
      "  Found link https://pypi.tuna.tsinghua.edu.cn/packages/78/dc/96f8633fcd49fad2189dd57918ff410627818ff3ebe1649678d8ac2e7126/prettytable-2.0.0.tar.gz#sha256=e37acd91976fe6119172771520e58d1742c8479703489321dc1d9c85e7259922 (from https://pypi.tuna.tsinghua.edu.cn/simple/prettytable/) (requires-python:>=3.6), version: 2.0.0\n",
      "  Found link https://pypi.tuna.tsinghua.edu.cn/packages/26/1b/42b59a4038bc0442e3a0085bc0de385658131eef8a88946333f870559b09/prettytable-2.1.0-py3-none-any.whl#sha256=bb5abc72bdfae6f3cdadb04fb7726f6915af0ddb7c897a41d4ad7736d9bfd8fd (from https://pypi.tuna.tsinghua.edu.cn/simple/prettytable/) (requires-python:>=3.6), version: 2.1.0\n",
      "  Found link https://pypi.tuna.tsinghua.edu.cn/packages/d4/c6/d388b3d4992acf413d1b67101107b7f4651cc2835abd0bbd6661678eb2c1/prettytable-2.1.0.tar.gz#sha256=5882ed9092b391bb8f6e91f59bcdbd748924ff556bb7c634089d5519be87baa0 (from https://pypi.tuna.tsinghua.edu.cn/simple/prettytable/) (requires-python:>=3.6), version: 2.1.0\n",
      "  Found link https://pypi.tuna.tsinghua.edu.cn/packages/bd/b5/c09f8d237e060a9e7b5d2d1577c2a6bc49fa298a7b4aefd52146f2b9a62e/prettytable-2.2.0-py3-none-any.whl#sha256=b186f1db9c9377cb552cfa95a3b7a0feab6ec55d7cad7e0763bdcbea1e8f4687 (from https://pypi.tuna.tsinghua.edu.cn/simple/prettytable/) (requires-python:>=3.6), version: 2.2.0\n",
      "  Found link https://pypi.tuna.tsinghua.edu.cn/packages/00/8d/95441120aa870aa800f8b4c6cf650bf0739d7a41883fe81769ab593556c9/prettytable-2.2.0.tar.gz#sha256=bd81678c108e6c73d4f1e47cd4283de301faaa6ff6220bcd1d4022038c56b416 (from https://pypi.tuna.tsinghua.edu.cn/simple/prettytable/) (requires-python:>=3.6), version: 2.2.0\n",
      "  Found link https://pypi.tuna.tsinghua.edu.cn/packages/e1/77/821a93d77111aee2525841b6116287f99eeefc482f4f28765fd8d7ef1c64/prettytable-2.2.1-py3-none-any.whl#sha256=09fb2c7f93e4f93e0235f05ae199ac3f16da3a251b2cfa1c7108b34ede298fa3 (from https://pypi.tuna.tsinghua.edu.cn/simple/prettytable/) (requires-python:>=3.6), version: 2.2.1\n",
      "  Found link https://pypi.tuna.tsinghua.edu.cn/packages/81/ba/ead3c121d6e59ea4e31bba0976b28ff0369210c66901e84fad20878299e2/prettytable-2.2.1.tar.gz#sha256=6d465005573a5c058d4ca343449a5b28c21252b86afcdfa168cdc6a440f0b24c (from https://pypi.tuna.tsinghua.edu.cn/simple/prettytable/) (requires-python:>=3.6), version: 2.2.1\n",
      "  Found link https://pypi.tuna.tsinghua.edu.cn/packages/c2/98/3372c23c561cbaaa05bb60b2c3d30bfdad9ab504bf1ddefc7368b4545958/prettytable-2.3.0-py3-none-any.whl#sha256=74ba6d10555c93e2d4697751744207f6baadf77010914b2bcd8d5b3b546f84de (from https://pypi.tuna.tsinghua.edu.cn/simple/prettytable/) (requires-python:>=3.6), version: 2.3.0\n",
      "  Found link https://pypi.tuna.tsinghua.edu.cn/packages/8b/7d/a08e1331281f237cbbff594d34696a76dc8b6cea5dca895d0b7487c14309/prettytable-2.3.0.tar.gz#sha256=efd6f72d453bc0513b90f5b10fb4d085b919ca0f4c5ef033bda1dd894572ba64 (from https://pypi.tuna.tsinghua.edu.cn/simple/prettytable/) (requires-python:>=3.6), version: 2.3.0\n",
      "  Found link https://pypi.tuna.tsinghua.edu.cn/packages/de/56/554603797416219cae8fd3eae33e5e2d58a7fc73419129b62fa419a67856/prettytable-2.4.0-py3-none-any.whl#sha256=2492f29e8686bdbcce815a568bff74cb71cbb704747c3abb9c9c6cfe25f985a2 (from https://pypi.tuna.tsinghua.edu.cn/simple/prettytable/) (requires-python:>=3.6), version: 2.4.0\n",
      "  Found link https://pypi.tuna.tsinghua.edu.cn/packages/ea/36/a96f1d0f434e1658b3fde011df028efdc3d38bde563339f0fc9e8beadc59/prettytable-2.4.0.tar.gz#sha256=18e56447f636b447096977d468849c1e2d3cfa0af8e7b5acfcf83a64790c0aca (from https://pypi.tuna.tsinghua.edu.cn/simple/prettytable/) (requires-python:>=3.6), version: 2.4.0\n",
      "  Found link https://pypi.tuna.tsinghua.edu.cn/packages/9e/6d/40a24eaa03ea4418129708fd3f0f17eda73d568f16d4d4fd412566168b4c/prettytable-2.5.0-py3-none-any.whl#sha256=1411c65d21dca9eaa505ba1d041bed75a6d629ae22f5109a923f4e719cfecba4 (from https://pypi.tuna.tsinghua.edu.cn/simple/prettytable/) (requires-python:>=3.6), version: 2.5.0\n",
      "  Found link https://pypi.tuna.tsinghua.edu.cn/packages/e4/35/21bf22e21b29102bbe81730caf498dfb3e1eed2642ac71f323472ead673a/prettytable-2.5.0.tar.gz#sha256=f7da57ba63d55116d65e5acb147bfdfa60dceccabf0d607d6817ee2888a05f2c (from https://pypi.tuna.tsinghua.edu.cn/simple/prettytable/) (requires-python:>=3.6), version: 2.5.0\n",
      "  Found link https://pypi.tuna.tsinghua.edu.cn/packages/71/4f/82c03ec59c6b9b1caaa60e1e7d7713f4587a75824207e41698effc8ca5b7/prettytable-3.0.0-py3-none-any.whl#sha256=d55bc2547611bd8c40f1c69bbb8daf1b6b2c326214a265d211ec9c57fc252093 (from https://pypi.tuna.tsinghua.edu.cn/simple/prettytable/) (requires-python:>=3.7), version: 3.0.0\n",
      "  Found link https://pypi.tuna.tsinghua.edu.cn/packages/71/19/d65d4c39aa12a5630a8aa02ead8324cfaae3217146b19dd25d88d763bbdf/prettytable-3.0.0.tar.gz#sha256=69fe75d78ac8651e16dd61265b9e19626df5d630ae294fc31687aa6037b97a58 (from https://pypi.tuna.tsinghua.edu.cn/simple/prettytable/) (requires-python:>=3.7), version: 3.0.0\n",
      "  Found link https://pypi.tuna.tsinghua.edu.cn/packages/bf/f5/2ec9f14ac0a8efc292d003ff60d001ce28994a3b3109fda1d786be3415c8/prettytable-3.1.0-py3-none-any.whl#sha256=e87c6a7d9ef34230556fa0b4bb5ea465fdada6912cd90401afb0ce4bfa106448 (from https://pypi.tuna.tsinghua.edu.cn/simple/prettytable/) (requires-python:>=3.7), version: 3.1.0\n",
      "  Found link https://pypi.tuna.tsinghua.edu.cn/packages/01/55/a4a1a0f73f7665744cd5712fd6f982e5406c8e7459a0730a69299a3c1e2b/prettytable-3.1.0.tar.gz#sha256=7c2e104031614b5ba013516440241702bfaa369534069de3bacca015ffd0f27b (from https://pypi.tuna.tsinghua.edu.cn/simple/prettytable/) (requires-python:>=3.7), version: 3.1.0\n",
      "  Found link https://pypi.tuna.tsinghua.edu.cn/packages/f9/b5/7775772482999e0659def71de81cb888a822b29284ca2b7d55f37ba512bb/prettytable-3.1.1-py3-none-any.whl#sha256=f546d42de21ac14d791c91e4e9814f02271f4a5bf27b894457914be7513dc92b (from https://pypi.tuna.tsinghua.edu.cn/simple/prettytable/) (requires-python:>=3.7), version: 3.1.1\n",
      "  Found link https://pypi.tuna.tsinghua.edu.cn/packages/89/c1/3043e85bf06f252f51817dad51a37368daaf7b1c101b43cd5aa6100f09b1/prettytable-3.1.1.tar.gz#sha256=43c9e23272ca253d038ae76fe3adde89794e92e7fcab2ddf5b94b38642ef4f21 (from https://pypi.tuna.tsinghua.edu.cn/simple/prettytable/) (requires-python:>=3.7), version: 3.1.1\n",
      "  Found link https://pypi.tuna.tsinghua.edu.cn/packages/96/53/91638391af5a68d27402b920ccc3fdfae51dd3e333476b414393d4478a70/prettytable-3.2.0-py3-none-any.whl#sha256=f6c5ec87c3ef9df5bba1d32d826c1b862ecad0344dddb6082e3562caf71fe085 (from https://pypi.tuna.tsinghua.edu.cn/simple/prettytable/) (requires-python:>=3.7), version: 3.2.0\n",
      "  Found link https://pypi.tuna.tsinghua.edu.cn/packages/cb/7d/7e6bc4bd4abc49e9f4f5c4773bb43d1615e4b476d108d1b527318b9c6521/prettytable-3.2.0.tar.gz#sha256=ae7d96c64100543dc61662b40a28f3b03c0f94a503ed121c6fca2782c5816f81 (from https://pypi.tuna.tsinghua.edu.cn/simple/prettytable/) (requires-python:>=3.7), version: 3.2.0\n",
      "  Found link https://pypi.tuna.tsinghua.edu.cn/packages/5f/ab/64371af206988d7b15c8112c9c277b8eb4618397c01471e52b902a17f59c/prettytable-3.3.0-py3-none-any.whl#sha256=d1c34d72ea2c0ffd6ce5958e71c428eb21a3d40bf3133afe319b24aeed5af407 (from https://pypi.tuna.tsinghua.edu.cn/simple/prettytable/) (requires-python:>=3.7), version: 3.3.0\n",
      "  Found link https://pypi.tuna.tsinghua.edu.cn/packages/10/88/ef38a6e4bc375600d3031e405a8d3b3dc4a154fccffd21d5d06e66c96230/prettytable-3.3.0.tar.gz#sha256=118eb54fd2794049b810893653b20952349df6d3bc1764e7facd8a18064fa9b0 (from https://pypi.tuna.tsinghua.edu.cn/simple/prettytable/) (requires-python:>=3.7), version: 3.3.0\n",
      "  Found link https://pypi.tuna.tsinghua.edu.cn/packages/a7/b7/691a836347df9610c2264e7e60461f9991ca36ce9f2179a38ebc9e4a2682/prettytable-3.4.0-py3-none-any.whl#sha256=8ea12e615fee421090ca3954c2e006280f7ecdf4adf940dbc1c6ec014d4eca9d (from https://pypi.tuna.tsinghua.edu.cn/simple/prettytable/) (requires-python:>=3.7), version: 3.4.0\n",
      "  Found link https://pypi.tuna.tsinghua.edu.cn/packages/63/42/b8b24cfe616a8217515011fc54ed37b45077cd4467230b3a0132166696a1/prettytable-3.4.0.tar.gz#sha256=d16747b5108c252bf065ea1cd239aab3c87bd8bb10a9f7973c9f192bbcfed26e (from https://pypi.tuna.tsinghua.edu.cn/simple/prettytable/) (requires-python:>=3.7), version: 3.4.0\n",
      "  Found link https://pypi.tuna.tsinghua.edu.cn/packages/5b/c9/4e7dbae5054c5bbaed9e7aa7a78e1ceff003d0b0699318e5d6993a0a10c9/prettytable-3.4.1-py3-none-any.whl#sha256=0d23ff81e165077d93367e1379d97893c7a51541483d25bad45b9647660ef06f (from https://pypi.tuna.tsinghua.edu.cn/simple/prettytable/) (requires-python:>=3.7), version: 3.4.1\n",
      "  Found link https://pypi.tuna.tsinghua.edu.cn/packages/a5/aa/0852b0ee91587a766fbc872f398ed26366c7bf26373d5feb974bebbde8d2/prettytable-3.4.1.tar.gz#sha256=7d7dd84d0b206f2daac4471a72f299d6907f34516064feb2838e333a4e2567bd (from https://pypi.tuna.tsinghua.edu.cn/simple/prettytable/) (requires-python:>=3.7), version: 3.4.1\n",
      "  Found link https://pypi.tuna.tsinghua.edu.cn/packages/fa/4c/9b2bbb92a14a09ed929afa40282c088d8e50f79303eb3873fbeba1d96e89/prettytable-3.5.0-py3-none-any.whl#sha256=fe391c3b545800028edf5dbb6a5360893feb398367fcc1cf8d7a5b29ce5c59a1 (from https://pypi.tuna.tsinghua.edu.cn/simple/prettytable/) (requires-python:>=3.7), version: 3.5.0\n",
      "  Found link https://pypi.tuna.tsinghua.edu.cn/packages/51/d8/f4739a1971029c00fdb97c9ea4abbfb20ea041f6aa7613343f12a468e217/prettytable-3.5.0.tar.gz#sha256=52f682ba4efe29dccb38ff0fe5bac8a23007d0780ff92a8b85af64bc4fc74d72 (from https://pypi.tuna.tsinghua.edu.cn/simple/prettytable/) (requires-python:>=3.7), version: 3.5.0\n",
      "  Found link https://pypi.tuna.tsinghua.edu.cn/packages/51/fd/52b6d8a28f8dabf05e5fcbb5ef639d62326a5bccfa93b98fb7e54d414509/prettytable-3.6.0-py3-none-any.whl#sha256=3b767129491767a3a5108e6f305cbaa650f8020a7db5dfe994a2df7ef7bad0fe (from https://pypi.tuna.tsinghua.edu.cn/simple/prettytable/) (requires-python:>=3.7), version: 3.6.0\n",
      "  Found link https://pypi.tuna.tsinghua.edu.cn/packages/ba/b6/8e78337766d4c324ac22cb887ecc19487531f508dbf17d922b91492d55bb/prettytable-3.6.0.tar.gz#sha256=2e0026af955b4ea67b22122f310b90eae890738c08cb0458693a49b6221530ac (from https://pypi.tuna.tsinghua.edu.cn/simple/prettytable/) (requires-python:>=3.7), version: 3.6.0\n",
      "Skipping link: not a file: https://pypi.tuna.tsinghua.edu.cn/simple/prettytable/\n",
      "Given no hashes to check 54 links for project 'prettytable': discarding no candidates\n",
      "Collecting prettytable\n",
      "  Created temporary directory: /tmp/pip-unpack-zlwjzg79\n",
      "  Looking up \"https://pypi.tuna.tsinghua.edu.cn/packages/51/fd/52b6d8a28f8dabf05e5fcbb5ef639d62326a5bccfa93b98fb7e54d414509/prettytable-3.6.0-py3-none-any.whl\" in the cache\n",
      "  No cache entry available\n",
      "  https://pypi.tuna.tsinghua.edu.cn:443 \"GET /packages/51/fd/52b6d8a28f8dabf05e5fcbb5ef639d62326a5bccfa93b98fb7e54d414509/prettytable-3.6.0-py3-none-any.whl HTTP/1.1\" 200 27173\n",
      "  Downloading https://pypi.tuna.tsinghua.edu.cn/packages/51/fd/52b6d8a28f8dabf05e5fcbb5ef639d62326a5bccfa93b98fb7e54d414509/prettytable-3.6.0-py3-none-any.whl (27 kB)\n",
      "  Updating cache with response from \"https://pypi.tuna.tsinghua.edu.cn/packages/51/fd/52b6d8a28f8dabf05e5fcbb5ef639d62326a5bccfa93b98fb7e54d414509/prettytable-3.6.0-py3-none-any.whl\"\n",
      "  Added prettytable from https://pypi.tuna.tsinghua.edu.cn/packages/51/fd/52b6d8a28f8dabf05e5fcbb5ef639d62326a5bccfa93b98fb7e54d414509/prettytable-3.6.0-py3-none-any.whl#sha256=3b767129491767a3a5108e6f305cbaa650f8020a7db5dfe994a2df7ef7bad0fe (from mmsegmentation==1.0.0rc4) to build tracker '/tmp/pip-req-tracker-9_zmvp6r'\n",
      "  Removed prettytable from https://pypi.tuna.tsinghua.edu.cn/packages/51/fd/52b6d8a28f8dabf05e5fcbb5ef639d62326a5bccfa93b98fb7e54d414509/prettytable-3.6.0-py3-none-any.whl#sha256=3b767129491767a3a5108e6f305cbaa650f8020a7db5dfe994a2df7ef7bad0fe (from mmsegmentation==1.0.0rc4) from build tracker '/tmp/pip-req-tracker-9_zmvp6r'\n",
      "Requirement already satisfied: scipy in /environment/miniconda3/lib/python3.7/site-packages (from mmsegmentation==1.0.0rc4) (1.7.3)\n",
      "Requirement already satisfied: cycler>=0.10 in /environment/miniconda3/lib/python3.7/site-packages (from matplotlib->mmsegmentation==1.0.0rc4) (0.11.0)\n",
      "Requirement already satisfied: kiwisolver>=1.0.1 in /environment/miniconda3/lib/python3.7/site-packages (from matplotlib->mmsegmentation==1.0.0rc4) (1.3.2)\n",
      "Requirement already satisfied: setuptools-scm>=4 in /environment/miniconda3/lib/python3.7/site-packages (from matplotlib->mmsegmentation==1.0.0rc4) (6.3.2)\n",
      "Requirement already satisfied: pyparsing>=2.2.1 in /environment/miniconda3/lib/python3.7/site-packages (from matplotlib->mmsegmentation==1.0.0rc4) (3.0.6)\n",
      "Requirement already satisfied: pillow>=6.2.0 in /environment/miniconda3/lib/python3.7/site-packages (from matplotlib->mmsegmentation==1.0.0rc4) (8.4.0)\n",
      "Requirement already satisfied: python-dateutil>=2.7 in /environment/miniconda3/lib/python3.7/site-packages (from matplotlib->mmsegmentation==1.0.0rc4) (2.8.2)\n",
      "Requirement already satisfied: fonttools>=4.22.0 in /environment/miniconda3/lib/python3.7/site-packages (from matplotlib->mmsegmentation==1.0.0rc4) (4.28.3)\n",
      "Requirement already satisfied: six>=1.5 in /environment/miniconda3/lib/python3.7/site-packages (from python-dateutil>=2.7->matplotlib->mmsegmentation==1.0.0rc4) (1.16.0)\n",
      "Requirement already satisfied: tomli>=1.0.0 in /environment/miniconda3/lib/python3.7/site-packages (from setuptools-scm>=4->matplotlib->mmsegmentation==1.0.0rc4) (1.2.2)\n",
      "Requirement already satisfied: setuptools in /environment/miniconda3/lib/python3.7/site-packages (from setuptools-scm>=4->matplotlib->mmsegmentation==1.0.0rc4) (52.0.0.post20210125)\n",
      "Requirement already satisfied: wcwidth in /environment/miniconda3/lib/python3.7/site-packages (from prettytable->mmsegmentation==1.0.0rc4) (0.2.5)\n",
      "Requirement already satisfied: importlib-metadata in /environment/miniconda3/lib/python3.7/site-packages (from prettytable->mmsegmentation==1.0.0rc4) (4.8.2)\n",
      "Requirement already satisfied: zipp>=0.5 in /environment/miniconda3/lib/python3.7/site-packages (from importlib-metadata->prettytable->mmsegmentation==1.0.0rc4) (3.6.0)\n",
      "Requirement already satisfied: typing-extensions>=3.6.4 in /environment/miniconda3/lib/python3.7/site-packages (from importlib-metadata->prettytable->mmsegmentation==1.0.0rc4) (4.0.1)\n",
      "Created temporary directory: /tmp/pip-unpack-ssjaonc1\n",
      "Installing collected packages: prettytable, mmsegmentation\n",
      "\n",
      "  Running setup.py develop for mmsegmentation\n",
      "    Running command /environment/miniconda3/bin/python -c 'import io, os, sys, setuptools, tokenize; sys.argv[0] = '\"'\"'/home/featurize/work/MMSegmentation教程/mmsegmentation/setup.py'\"'\"'; __file__='\"'\"'/home/featurize/work/MMSegmentation教程/mmsegmentation/setup.py'\"'\"';f = getattr(tokenize, '\"'\"'open'\"'\"', open)(__file__) if os.path.exists(__file__) else io.StringIO('\"'\"'from setuptools import setup; setup()'\"'\"');code = f.read().replace('\"'\"'\\r\\n'\"'\"', '\"'\"'\\n'\"'\"');f.close();exec(compile(code, __file__, '\"'\"'exec'\"'\"'))' develop --no-deps\n",
      "    running develop\n",
      "    running egg_info\n",
      "    writing mmsegmentation.egg-info/PKG-INFO\n",
      "    writing dependency_links to mmsegmentation.egg-info/dependency_links.txt\n",
      "    writing requirements to mmsegmentation.egg-info/requires.txt\n",
      "    writing top-level names to mmsegmentation.egg-info/top_level.txt\n",
      "    reading manifest template 'MANIFEST.in'\n",
      "    writing manifest file 'mmsegmentation.egg-info/SOURCES.txt'\n",
      "    running build_ext\n",
      "    Creating /environment/miniconda3/lib/python3.7/site-packages/mmsegmentation.egg-link (link to .)\n",
      "    Adding mmsegmentation 1.0.0rc4 to easy-install.pth file\n",
      "\n",
      "    Installed /home/featurize/work/MMSegmentation教程/mmsegmentation\n",
      "Successfully installed mmsegmentation-1.0.0rc4 prettytable-3.6.0\n",
      "Removed build tracker: '/tmp/pip-req-tracker-9_zmvp6r'\n"
     ]
    }
   ],
   "source": [
    "!pip install -v -e ."
   ]
  },
  {
   "cell_type": "markdown",
   "id": "a828bfe4-82e5-497a-9bda-cb9837df2cb3",
   "metadata": {},
   "source": [
    "## 下载预训练模型权重文件和视频素材"
   ]
  },
  {
   "cell_type": "code",
   "execution_count": 8,
   "id": "5aac1d0c-dbf5-478c-ab80-7e2aa0ab0f01",
   "metadata": {},
   "outputs": [],
   "source": [
    "import os\n",
    "\n",
    "# 创建 checkpoint 文件夹，用于存放预训练模型权重文件\n",
    "os.mkdir('checkpoint')\n",
    "\n",
    "# 创建 outputs 文件夹，用于存放预测结果\n",
    "os.mkdir('outputs')\n",
    "\n",
    "# 创建 data 文件夹，用于存放图片和视频素材\n",
    "os.mkdir('data')"
   ]
  },
  {
   "cell_type": "markdown",
   "id": "7dba2fbe-cb08-40a8-8ec5-7ab5ff7b70b3",
   "metadata": {},
   "source": [
    "## 下载预训练模型权重"
   ]
  },
  {
   "cell_type": "markdown",
   "id": "ec0111ac-aaf5-49d2-b052-554c1846c36e",
   "metadata": {},
   "source": [
    "Model Zoo：https://github.com/open-mmlab/mmsegmentation/blob/master/docs/en/model_zoo.md"
   ]
  },
  {
   "cell_type": "code",
   "execution_count": 9,
   "id": "72968e0c-3532-4d94-b9bc-41f78ea03f5b",
   "metadata": {},
   "outputs": [
    {
     "name": "stdout",
     "output_type": "stream",
     "text": [
      "--2023-01-31 10:11:54--  https://download.openmmlab.com/mmsegmentation/v0.5/pspnet/pspnet_r50-d8_512x1024_40k_cityscapes/pspnet_r50-d8_512x1024_40k_cityscapes_20200605_003338-2966598c.pth\n",
      "正在连接 172.16.0.13:5848... 已连接。\n",
      "已发出 Proxy 请求，正在等待回应... 200 OK\n",
      "长度： 196205945 (187M) [application/octet-stream]\n",
      "正在保存至: “checkpoint/pspnet_r50-d8_512x1024_40k_cityscapes_20200605_003338-2966598c.pth”\n",
      "\n",
      "pspnet_r50-d8_512x1 100%[===================>] 187.12M  60.1MB/s    用时 3.1s    \n",
      "\n",
      "2023-01-31 10:11:57 (60.1 MB/s) - 已保存 “checkpoint/pspnet_r50-d8_512x1024_40k_cityscapes_20200605_003338-2966598c.pth” [196205945/196205945])\n",
      "\n"
     ]
    }
   ],
   "source": [
    "# 从 Model Zoo 获取 PSPNet 预训练模型，下载并保存在 checkpoint 文件夹中\n",
    "!wget https://download.openmmlab.com/mmsegmentation/v0.5/pspnet/pspnet_r50-d8_512x1024_40k_cityscapes/pspnet_r50-d8_512x1024_40k_cityscapes_20200605_003338-2966598c.pth -P checkpoint\n"
   ]
  },
  {
   "cell_type": "markdown",
   "id": "e4fb1cb6-2b9b-418c-9230-6b413c748095",
   "metadata": {},
   "source": [
    "## 下载素材\n",
    "\n",
    "如果报错`Unable to establish SSL connection.`，重新运行代码块即可。"
   ]
  },
  {
   "cell_type": "code",
   "execution_count": 10,
   "id": "476bcac7-da39-416a-ba15-8d840d3ec06b",
   "metadata": {},
   "outputs": [
    {
     "name": "stdout",
     "output_type": "stream",
     "text": [
      "--2023-01-31 10:11:59--  https://zihao-openmmlab.obs.cn-east-3.myhuaweicloud.com/20220713-mmdetection/images/street_uk.jpeg\n",
      "正在连接 172.16.0.13:5848... 已连接。\n",
      "已发出 Proxy 请求，正在等待回应... 200 OK\n",
      "长度： 469065 (458K) [image/jpeg]\n",
      "正在保存至: “data/street_uk.jpeg”\n",
      "\n",
      "street_uk.jpeg      100%[===================>] 458.07K  2.18MB/s    用时 0.2s    \n",
      "\n",
      "2023-01-31 10:11:59 (2.18 MB/s) - 已保存 “data/street_uk.jpeg” [469065/469065])\n",
      "\n",
      "--2023-01-31 10:11:59--  https://zihao-download.obs.cn-east-3.myhuaweicloud.com/detectron2/traffic.mp4\n",
      "正在连接 172.16.0.13:5848... 已连接。\n",
      "已发出 Proxy 请求，正在等待回应... 200 OK\n",
      "长度： 3686362 (3.5M) [video/mp4]\n",
      "正在保存至: “data/traffic.mp4”\n",
      "\n",
      "traffic.mp4         100%[===================>]   3.51M  10.9MB/s    用时 0.3s    \n",
      "\n",
      "2023-01-31 10:12:00 (10.9 MB/s) - 已保存 “data/traffic.mp4” [3686362/3686362])\n",
      "\n",
      "--2023-01-31 10:12:00--  https://zihao-openmmlab.obs.cn-east-3.myhuaweicloud.com/20220713-mmdetection/images/street_20220330_174028.mp4\n",
      "正在连接 172.16.0.13:5848... 已连接。\n",
      "已发出 Proxy 请求，正在等待回应... 200 OK\n",
      "长度： 13575276 (13M) [video/mp4]\n",
      "正在保存至: “data/street_20220330_174028.mp4”\n",
      "\n",
      "street_20220330_174 100%[===================>]  12.95M  26.0MB/s    用时 0.5s    \n",
      "\n",
      "2023-01-31 10:12:01 (26.0 MB/s) - 已保存 “data/street_20220330_174028.mp4” [13575276/13575276])\n",
      "\n"
     ]
    }
   ],
   "source": [
    "# 伦敦街景图片\n",
    "!wget https://zihao-openmmlab.obs.cn-east-3.myhuaweicloud.com/20220713-mmdetection/images/street_uk.jpeg -P data\n",
    "\n",
    "# 上海驾车街景视频，视频来源：https://www.youtube.com/watch?v=ll8TgCZ0plk\n",
    "!wget https://zihao-download.obs.cn-east-3.myhuaweicloud.com/detectron2/traffic.mp4 -P data\n",
    "\n",
    "# 街拍视频，2022年3月30日\n",
    "!wget https://zihao-openmmlab.obs.cn-east-3.myhuaweicloud.com/20220713-mmdetection/images/street_20220330_174028.mp4 -P data\n"
   ]
  },
  {
   "cell_type": "markdown",
   "id": "fa97e1da-f245-4d32-892d-dec07a6b2c16",
   "metadata": {},
   "source": [
    "## 检查安装成功"
   ]
  },
  {
   "cell_type": "code",
   "execution_count": 6,
   "id": "424fca02-13cc-493f-8833-ec63900f02d3",
   "metadata": {},
   "outputs": [
    {
     "name": "stdout",
     "output_type": "stream",
     "text": [
      "Pytorch 版本 1.10.1+cu113\n",
      "CUDA 是否可用 True\n"
     ]
    }
   ],
   "source": [
    "# 检查 Pytorch\n",
    "import torch, torchvision\n",
    "print('Pytorch 版本', torch.__version__)\n",
    "print('CUDA 是否可用',torch.cuda.is_available())"
   ]
  },
  {
   "cell_type": "code",
   "execution_count": 7,
   "id": "96a6e738-d9d3-4e9f-a053-15bf2f29d43b",
   "metadata": {},
   "outputs": [
    {
     "name": "stdout",
     "output_type": "stream",
     "text": [
      "MMCV版本 2.0.0rc3\n",
      "CUDA版本 11.3\n",
      "编译器版本 GCC 9.3\n"
     ]
    }
   ],
   "source": [
    "# 检查 mmcv\n",
    "import mmcv\n",
    "from mmcv.ops import get_compiling_cuda_version, get_compiler_version\n",
    "print('MMCV版本', mmcv.__version__)\n",
    "print('CUDA版本', get_compiling_cuda_version())\n",
    "print('编译器版本', get_compiler_version())"
   ]
  },
  {
   "cell_type": "code",
   "execution_count": 8,
   "id": "dae8b28c-fa1f-4911-ba27-50ed745e9679",
   "metadata": {},
   "outputs": [
    {
     "name": "stdout",
     "output_type": "stream",
     "text": [
      "mmsegmentation版本 1.0.0rc4\n"
     ]
    }
   ],
   "source": [
    "# 检查 mmsegmentation\n",
    "import mmseg\n",
    "from mmseg.utils import register_all_modules\n",
    "from mmseg.apis import inference_model, init_model\n",
    "print('mmsegmentation版本', mmseg.__version__)"
   ]
  },
  {
   "cell_type": "markdown",
   "id": "6f89f196-6f70-46a5-9715-ee4755717c13",
   "metadata": {},
   "source": [
    "没有报错，即证明安装成功。"
   ]
  },
  {
   "cell_type": "code",
   "execution_count": null,
   "id": "90954e26-49ee-42ad-b2ff-7514e8542db4",
   "metadata": {},
   "outputs": [],
   "source": []
  }
 ],
 "metadata": {
  "kernelspec": {
   "display_name": "Python 3 (ipykernel)",
   "language": "python",
   "name": "python3"
  },
  "language_info": {
   "codemirror_mode": {
    "name": "ipython",
    "version": 3
   },
   "file_extension": ".py",
   "mimetype": "text/x-python",
   "name": "python",
   "nbconvert_exporter": "python",
   "pygments_lexer": "ipython3",
   "version": "3.7.10"
  }
 },
 "nbformat": 4,
 "nbformat_minor": 5
}
